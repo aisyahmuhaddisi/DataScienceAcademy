{
  "nbformat": 4,
  "nbformat_minor": 0,
  "metadata": {
    "colab": {
      "name": "data_science_academy.ipynb",
      "provenance": [],
      "collapsed_sections": []
    },
    "kernelspec": {
      "display_name": "Python 3",
      "language": "python",
      "name": "python3"
    },
    "language_info": {
      "codemirror_mode": {
        "name": "ipython",
        "version": 3
      },
      "file_extension": ".py",
      "mimetype": "text/x-python",
      "name": "python",
      "nbconvert_exporter": "python",
      "pygments_lexer": "ipython3",
      "version": "3.8.1"
    }
  },
  "cells": [
    {
      "cell_type": "code",
      "metadata": {
        "id": "6llCcrQr-stf"
      },
      "source": [
        "import pandas as pd\n",
        "import numpy as np\n",
        "import seaborn as sns\n",
        "import matplotlib.pyplot as plt\n",
        "from scipy import stats"
      ],
      "execution_count": null,
      "outputs": []
    },
    {
      "cell_type": "code",
      "metadata": {
        "id": "TsMflL-h-stl"
      },
      "source": [
        "data = pd.read_csv('./used_car_data.csv')"
      ],
      "execution_count": null,
      "outputs": []
    },
    {
      "cell_type": "code",
      "metadata": {
        "colab": {
          "base_uri": "https://localhost:8080/",
          "height": 204
        },
        "id": "5RMhshnc-sto",
        "outputId": "0a2e4be2-7f99-445e-97d9-72b298602185"
      },
      "source": [
        "data.head()"
      ],
      "execution_count": null,
      "outputs": [
        {
          "output_type": "execute_result",
          "data": {
            "text/html": [
              "<div>\n",
              "<style scoped>\n",
              "    .dataframe tbody tr th:only-of-type {\n",
              "        vertical-align: middle;\n",
              "    }\n",
              "\n",
              "    .dataframe tbody tr th {\n",
              "        vertical-align: top;\n",
              "    }\n",
              "\n",
              "    .dataframe thead th {\n",
              "        text-align: right;\n",
              "    }\n",
              "</style>\n",
              "<table border=\"1\" class=\"dataframe\">\n",
              "  <thead>\n",
              "    <tr style=\"text-align: right;\">\n",
              "      <th></th>\n",
              "      <th>Name</th>\n",
              "      <th>Location</th>\n",
              "      <th>Year</th>\n",
              "      <th>Kilometers_Driven</th>\n",
              "      <th>Fuel_Type</th>\n",
              "      <th>Transmission</th>\n",
              "      <th>Owner_Type</th>\n",
              "      <th>Mileage</th>\n",
              "      <th>Engine</th>\n",
              "      <th>Power</th>\n",
              "      <th>Seats</th>\n",
              "      <th>Price</th>\n",
              "    </tr>\n",
              "  </thead>\n",
              "  <tbody>\n",
              "    <tr>\n",
              "      <th>0</th>\n",
              "      <td>Maruti Wagon R LXI CNG</td>\n",
              "      <td>Mumbai</td>\n",
              "      <td>2010</td>\n",
              "      <td>72000</td>\n",
              "      <td>CNG</td>\n",
              "      <td>Manual</td>\n",
              "      <td>First</td>\n",
              "      <td>26.6 km/kg</td>\n",
              "      <td>998 CC</td>\n",
              "      <td>58.16 bhp</td>\n",
              "      <td>5.0</td>\n",
              "      <td>1.75</td>\n",
              "    </tr>\n",
              "    <tr>\n",
              "      <th>1</th>\n",
              "      <td>Hyundai Creta 1.6 CRDi SX Option</td>\n",
              "      <td>Pune</td>\n",
              "      <td>2015</td>\n",
              "      <td>41000</td>\n",
              "      <td>Diesel</td>\n",
              "      <td>Manual</td>\n",
              "      <td>First</td>\n",
              "      <td>19.67 kmpl</td>\n",
              "      <td>1582 CC</td>\n",
              "      <td>126.2 bhp</td>\n",
              "      <td>5.0</td>\n",
              "      <td>12.50</td>\n",
              "    </tr>\n",
              "    <tr>\n",
              "      <th>2</th>\n",
              "      <td>Honda Jazz V</td>\n",
              "      <td>Chennai</td>\n",
              "      <td>2011</td>\n",
              "      <td>46000</td>\n",
              "      <td>Petrol</td>\n",
              "      <td>Manual</td>\n",
              "      <td>First</td>\n",
              "      <td>18.2 kmpl</td>\n",
              "      <td>1199 CC</td>\n",
              "      <td>88.7 bhp</td>\n",
              "      <td>5.0</td>\n",
              "      <td>4.50</td>\n",
              "    </tr>\n",
              "    <tr>\n",
              "      <th>3</th>\n",
              "      <td>Maruti Ertiga VDI</td>\n",
              "      <td>Chennai</td>\n",
              "      <td>2012</td>\n",
              "      <td>87000</td>\n",
              "      <td>Diesel</td>\n",
              "      <td>Manual</td>\n",
              "      <td>First</td>\n",
              "      <td>20.77 kmpl</td>\n",
              "      <td>1248 CC</td>\n",
              "      <td>88.76 bhp</td>\n",
              "      <td>7.0</td>\n",
              "      <td>6.00</td>\n",
              "    </tr>\n",
              "    <tr>\n",
              "      <th>4</th>\n",
              "      <td>Audi A4 New 2.0 TDI Multitronic</td>\n",
              "      <td>Coimbatore</td>\n",
              "      <td>2013</td>\n",
              "      <td>40670</td>\n",
              "      <td>Diesel</td>\n",
              "      <td>Automatic</td>\n",
              "      <td>Second</td>\n",
              "      <td>15.2 kmpl</td>\n",
              "      <td>1968 CC</td>\n",
              "      <td>140.8 bhp</td>\n",
              "      <td>5.0</td>\n",
              "      <td>17.74</td>\n",
              "    </tr>\n",
              "  </tbody>\n",
              "</table>\n",
              "</div>"
            ],
            "text/plain": [
              "                               Name    Location  Year  Kilometers_Driven  \\\n",
              "0            Maruti Wagon R LXI CNG      Mumbai  2010              72000   \n",
              "1  Hyundai Creta 1.6 CRDi SX Option        Pune  2015              41000   \n",
              "2                      Honda Jazz V     Chennai  2011              46000   \n",
              "3                 Maruti Ertiga VDI     Chennai  2012              87000   \n",
              "4   Audi A4 New 2.0 TDI Multitronic  Coimbatore  2013              40670   \n",
              "\n",
              "  Fuel_Type Transmission Owner_Type     Mileage   Engine      Power  Seats  \\\n",
              "0       CNG       Manual      First  26.6 km/kg   998 CC  58.16 bhp    5.0   \n",
              "1    Diesel       Manual      First  19.67 kmpl  1582 CC  126.2 bhp    5.0   \n",
              "2    Petrol       Manual      First   18.2 kmpl  1199 CC   88.7 bhp    5.0   \n",
              "3    Diesel       Manual      First  20.77 kmpl  1248 CC  88.76 bhp    7.0   \n",
              "4    Diesel    Automatic     Second   15.2 kmpl  1968 CC  140.8 bhp    5.0   \n",
              "\n",
              "   Price  \n",
              "0   1.75  \n",
              "1  12.50  \n",
              "2   4.50  \n",
              "3   6.00  \n",
              "4  17.74  "
            ]
          },
          "metadata": {
            "tags": []
          },
          "execution_count": 3
        }
      ]
    },
    {
      "cell_type": "code",
      "metadata": {
        "colab": {
          "base_uri": "https://localhost:8080/",
          "height": 340
        },
        "id": "ehwEZiLE-str",
        "outputId": "71c1a368-fc97-4bd0-cab1-f64f2bb2b90f"
      },
      "source": [
        "data.info()"
      ],
      "execution_count": null,
      "outputs": [
        {
          "output_type": "stream",
          "text": [
            "<class 'pandas.core.frame.DataFrame'>\n",
            "RangeIndex: 6019 entries, 0 to 6018\n",
            "Data columns (total 12 columns):\n",
            " #   Column             Non-Null Count  Dtype  \n",
            "---  ------             --------------  -----  \n",
            " 0   Name               6019 non-null   object \n",
            " 1   Location           6019 non-null   object \n",
            " 2   Year               6019 non-null   int64  \n",
            " 3   Kilometers_Driven  6019 non-null   int64  \n",
            " 4   Fuel_Type          6019 non-null   object \n",
            " 5   Transmission       6019 non-null   object \n",
            " 6   Owner_Type         6019 non-null   object \n",
            " 7   Mileage            6017 non-null   object \n",
            " 8   Engine             5983 non-null   object \n",
            " 9   Power              5983 non-null   object \n",
            " 10  Seats              5977 non-null   float64\n",
            " 11  Price              6019 non-null   float64\n",
            "dtypes: float64(2), int64(2), object(8)\n",
            "memory usage: 564.4+ KB\n"
          ],
          "name": "stdout"
        }
      ]
    },
    {
      "cell_type": "markdown",
      "metadata": {
        "id": "HjKI51cj-stw"
      },
      "source": [
        "# Data Cleaning"
      ]
    },
    {
      "cell_type": "code",
      "metadata": {
        "colab": {
          "base_uri": "https://localhost:8080/",
          "height": 425
        },
        "id": "N7syeGr--stw",
        "outputId": "b95f46ff-b0f0-4270-fdf6-4856a018a65d"
      },
      "source": [
        "mileage = data['Mileage']\n",
        " \n",
        "for i in range (0 ,len(mileage)):    \n",
        "    x= str(mileage[i])\n",
        "    if \"kmpl\" in x[-4:]:\n",
        "        x = x[:-4:]\n",
        "        float_x = float(x)\n",
        "        \n",
        "        mileage[i]= float_x\n",
        "    elif \"km/kg\" in x[-5:]:\n",
        "        x = x[:-5:]\n",
        "        float_x = float(x)\n",
        "        mileage[i] = float_x\n",
        "print (data)"
      ],
      "execution_count": null,
      "outputs": [
        {
          "output_type": "stream",
          "text": [
            "<ipython-input-5-c4916ff30f4b>:16: SettingWithCopyWarning: \n",
            "A value is trying to be set on a copy of a slice from a DataFrame\n",
            "\n",
            "See the caveats in the documentation: https://pandas.pydata.org/pandas-docs/stable/user_guide/indexing.html#returning-a-view-versus-a-copy\n",
            "  mileage[i] = float_x\n",
            "<ipython-input-5-c4916ff30f4b>:12: SettingWithCopyWarning: \n",
            "A value is trying to be set on a copy of a slice from a DataFrame\n",
            "\n",
            "See the caveats in the documentation: https://pandas.pydata.org/pandas-docs/stable/user_guide/indexing.html#returning-a-view-versus-a-copy\n",
            "  mileage[i]= float_x\n"
          ],
          "name": "stderr"
        },
        {
          "output_type": "stream",
          "text": [
            "                                  Name    Location  Year  Kilometers_Driven  \\\n",
            "0               Maruti Wagon R LXI CNG      Mumbai  2010              72000   \n",
            "1     Hyundai Creta 1.6 CRDi SX Option        Pune  2015              41000   \n",
            "2                         Honda Jazz V     Chennai  2011              46000   \n",
            "3                    Maruti Ertiga VDI     Chennai  2012              87000   \n",
            "4      Audi A4 New 2.0 TDI Multitronic  Coimbatore  2013              40670   \n",
            "...                                ...         ...   ...                ...   \n",
            "6014                  Maruti Swift VDI       Delhi  2014              27365   \n",
            "6015          Hyundai Xcent 1.1 CRDi S      Jaipur  2015             100000   \n",
            "6016             Mahindra Xylo D4 BSIV      Jaipur  2012              55000   \n",
            "6017                Maruti Wagon R VXI     Kolkata  2013              46000   \n",
            "6018             Chevrolet Beat Diesel   Hyderabad  2011              47000   \n",
            "\n",
            "     Fuel_Type Transmission Owner_Type Mileage   Engine      Power  Seats  \\\n",
            "0          CNG       Manual      First    26.6   998 CC  58.16 bhp    5.0   \n",
            "1       Diesel       Manual      First   19.67  1582 CC  126.2 bhp    5.0   \n",
            "2       Petrol       Manual      First    18.2  1199 CC   88.7 bhp    5.0   \n",
            "3       Diesel       Manual      First   20.77  1248 CC  88.76 bhp    7.0   \n",
            "4       Diesel    Automatic     Second    15.2  1968 CC  140.8 bhp    5.0   \n",
            "...        ...          ...        ...     ...      ...        ...    ...   \n",
            "6014    Diesel       Manual      First    28.4  1248 CC     74 bhp    5.0   \n",
            "6015    Diesel       Manual      First    24.4  1120 CC     71 bhp    5.0   \n",
            "6016    Diesel       Manual     Second      14  2498 CC    112 bhp    8.0   \n",
            "6017    Petrol       Manual      First    18.9   998 CC   67.1 bhp    5.0   \n",
            "6018    Diesel       Manual      First   25.44   936 CC   57.6 bhp    5.0   \n",
            "\n",
            "      Price  \n",
            "0      1.75  \n",
            "1     12.50  \n",
            "2      4.50  \n",
            "3      6.00  \n",
            "4     17.74  \n",
            "...     ...  \n",
            "6014   4.75  \n",
            "6015   4.00  \n",
            "6016   2.90  \n",
            "6017   2.65  \n",
            "6018   2.50  \n",
            "\n",
            "[6019 rows x 12 columns]\n"
          ],
          "name": "stdout"
        }
      ]
    },
    {
      "cell_type": "code",
      "metadata": {
        "colab": {
          "base_uri": "https://localhost:8080/",
          "height": 340
        },
        "id": "0mixiEoH-stz",
        "outputId": "fa4f22c5-bc63-497e-b2a2-40323a1d41bf"
      },
      "source": [
        "engine = data['Engine']\n",
        " \n",
        "for i in range (0 ,len(engine)):    \n",
        "    x= str(engine[i])\n",
        "    if \"CC\" in x[-2:]:\n",
        "        x = x[:-2:]\n",
        "        float_x = float(x)\n",
        "        \n",
        "        engine[i]= float_x\n",
        "print (data)"
      ],
      "execution_count": null,
      "outputs": [
        {
          "output_type": "stream",
          "text": [
            "<ipython-input-6-1dd44a3eb789>:12: SettingWithCopyWarning: \n",
            "A value is trying to be set on a copy of a slice from a DataFrame\n",
            "\n",
            "See the caveats in the documentation: https://pandas.pydata.org/pandas-docs/stable/user_guide/indexing.html#returning-a-view-versus-a-copy\n",
            "  engine[i]= float_x\n"
          ],
          "name": "stderr"
        },
        {
          "output_type": "stream",
          "text": [
            "                                  Name    Location  Year  Kilometers_Driven  \\\n",
            "0               Maruti Wagon R LXI CNG      Mumbai  2010              72000   \n",
            "1     Hyundai Creta 1.6 CRDi SX Option        Pune  2015              41000   \n",
            "2                         Honda Jazz V     Chennai  2011              46000   \n",
            "3                    Maruti Ertiga VDI     Chennai  2012              87000   \n",
            "4      Audi A4 New 2.0 TDI Multitronic  Coimbatore  2013              40670   \n",
            "...                                ...         ...   ...                ...   \n",
            "6014                  Maruti Swift VDI       Delhi  2014              27365   \n",
            "6015          Hyundai Xcent 1.1 CRDi S      Jaipur  2015             100000   \n",
            "6016             Mahindra Xylo D4 BSIV      Jaipur  2012              55000   \n",
            "6017                Maruti Wagon R VXI     Kolkata  2013              46000   \n",
            "6018             Chevrolet Beat Diesel   Hyderabad  2011              47000   \n",
            "\n",
            "     Fuel_Type Transmission Owner_Type Mileage Engine      Power  Seats  Price  \n",
            "0          CNG       Manual      First    26.6    998  58.16 bhp    5.0   1.75  \n",
            "1       Diesel       Manual      First   19.67   1582  126.2 bhp    5.0  12.50  \n",
            "2       Petrol       Manual      First    18.2   1199   88.7 bhp    5.0   4.50  \n",
            "3       Diesel       Manual      First   20.77   1248  88.76 bhp    7.0   6.00  \n",
            "4       Diesel    Automatic     Second    15.2   1968  140.8 bhp    5.0  17.74  \n",
            "...        ...          ...        ...     ...    ...        ...    ...    ...  \n",
            "6014    Diesel       Manual      First    28.4   1248     74 bhp    5.0   4.75  \n",
            "6015    Diesel       Manual      First    24.4   1120     71 bhp    5.0   4.00  \n",
            "6016    Diesel       Manual     Second      14   2498    112 bhp    8.0   2.90  \n",
            "6017    Petrol       Manual      First    18.9    998   67.1 bhp    5.0   2.65  \n",
            "6018    Diesel       Manual      First   25.44    936   57.6 bhp    5.0   2.50  \n",
            "\n",
            "[6019 rows x 12 columns]\n"
          ],
          "name": "stdout"
        }
      ]
    },
    {
      "cell_type": "code",
      "metadata": {
        "colab": {
          "base_uri": "https://localhost:8080/",
          "height": 340
        },
        "id": "u5kIAet3-st2",
        "outputId": "d03ef2d4-b33e-425b-e1a7-fb8c1f422668"
      },
      "source": [
        "power = data['Power']\n",
        " \n",
        "for i in range (0 ,len(power)):    \n",
        "    x= str(power[i])\n",
        "    if \"bhp\" in x[-3:]:\n",
        "        x = x[:-3:]\n",
        "        if x == 'null ':\n",
        "            x = 0\n",
        "            \n",
        "        float_x = float(x)\n",
        "        \n",
        "        power[i]= float_x\n",
        "print (data)"
      ],
      "execution_count": null,
      "outputs": [
        {
          "output_type": "stream",
          "text": [
            "<ipython-input-7-0fa62a797293>:15: SettingWithCopyWarning: \n",
            "A value is trying to be set on a copy of a slice from a DataFrame\n",
            "\n",
            "See the caveats in the documentation: https://pandas.pydata.org/pandas-docs/stable/user_guide/indexing.html#returning-a-view-versus-a-copy\n",
            "  power[i]= float_x\n"
          ],
          "name": "stderr"
        },
        {
          "output_type": "stream",
          "text": [
            "                                  Name    Location  Year  Kilometers_Driven  \\\n",
            "0               Maruti Wagon R LXI CNG      Mumbai  2010              72000   \n",
            "1     Hyundai Creta 1.6 CRDi SX Option        Pune  2015              41000   \n",
            "2                         Honda Jazz V     Chennai  2011              46000   \n",
            "3                    Maruti Ertiga VDI     Chennai  2012              87000   \n",
            "4      Audi A4 New 2.0 TDI Multitronic  Coimbatore  2013              40670   \n",
            "...                                ...         ...   ...                ...   \n",
            "6014                  Maruti Swift VDI       Delhi  2014              27365   \n",
            "6015          Hyundai Xcent 1.1 CRDi S      Jaipur  2015             100000   \n",
            "6016             Mahindra Xylo D4 BSIV      Jaipur  2012              55000   \n",
            "6017                Maruti Wagon R VXI     Kolkata  2013              46000   \n",
            "6018             Chevrolet Beat Diesel   Hyderabad  2011              47000   \n",
            "\n",
            "     Fuel_Type Transmission Owner_Type Mileage Engine  Power  Seats  Price  \n",
            "0          CNG       Manual      First    26.6    998  58.16    5.0   1.75  \n",
            "1       Diesel       Manual      First   19.67   1582  126.2    5.0  12.50  \n",
            "2       Petrol       Manual      First    18.2   1199   88.7    5.0   4.50  \n",
            "3       Diesel       Manual      First   20.77   1248  88.76    7.0   6.00  \n",
            "4       Diesel    Automatic     Second    15.2   1968  140.8    5.0  17.74  \n",
            "...        ...          ...        ...     ...    ...    ...    ...    ...  \n",
            "6014    Diesel       Manual      First    28.4   1248     74    5.0   4.75  \n",
            "6015    Diesel       Manual      First    24.4   1120     71    5.0   4.00  \n",
            "6016    Diesel       Manual     Second      14   2498    112    8.0   2.90  \n",
            "6017    Petrol       Manual      First    18.9    998   67.1    5.0   2.65  \n",
            "6018    Diesel       Manual      First   25.44    936   57.6    5.0   2.50  \n",
            "\n",
            "[6019 rows x 12 columns]\n"
          ],
          "name": "stdout"
        }
      ]
    },
    {
      "cell_type": "code",
      "metadata": {
        "id": "F7ELe-ry-st6"
      },
      "source": [
        "data['Mileage'] = data['Mileage'].replace(to_replace = 0, value = np.nan)\n",
        "data = data.dropna(subset=['Mileage'])"
      ],
      "execution_count": null,
      "outputs": []
    },
    {
      "cell_type": "code",
      "metadata": {
        "id": "LbyL0xSa-st8"
      },
      "source": [
        "data['Engine'] = data['Engine'].astype(float)\n",
        "data['Power'] = data['Power'].astype(float)"
      ],
      "execution_count": null,
      "outputs": []
    },
    {
      "cell_type": "markdown",
      "metadata": {
        "id": "xFx9JXoO-st_"
      },
      "source": [
        "# 1. Merek Mobil dan Jumlahnya"
      ]
    },
    {
      "cell_type": "code",
      "metadata": {
        "id": "5I6cphdye6Yw"
      },
      "source": [
        "data['Brand_Name'] = data['Name'].apply(lambda x: str(x).split(\" \")[0])"
      ],
      "execution_count": null,
      "outputs": []
    },
    {
      "cell_type": "code",
      "metadata": {
        "id": "D6LX3chI-st_"
      },
      "source": [
        "car_name = data['Brand_Name'].value_counts()"
      ],
      "execution_count": null,
      "outputs": []
    },
    {
      "cell_type": "code",
      "metadata": {
        "colab": {
          "base_uri": "https://localhost:8080/",
          "height": 221
        },
        "id": "jWaJrIqa-suC",
        "outputId": "74aa7449-fd59-42f3-c67a-71d95ade413b"
      },
      "source": [
        "car_name"
      ],
      "execution_count": null,
      "outputs": [
        {
          "output_type": "execute_result",
          "data": {
            "text/plain": [
              "Maruti           1210\n",
              "Hyundai          1075\n",
              "Honda             605\n",
              "Toyota            408\n",
              "Volkswagen        314\n",
              "Mercedes-Benz     306\n",
              "Ford              299\n",
              "Mahindra          269\n",
              "BMW               267\n",
              "Audi              235\n",
              "Tata              186\n",
              "Skoda             171\n",
              "Renault           145\n",
              "Chevrolet         121\n",
              "Nissan             91\n",
              "Land               51\n",
              "Jaguar             40\n",
              "Mitsubishi         27\n",
              "Fiat               27\n",
              "Mini               26\n",
              "Volvo              21\n",
              "Porsche            18\n",
              "Jeep               15\n",
              "Datsun             13\n",
              "Force               3\n",
              "ISUZU               2\n",
              "Bentley             1\n",
              "Lamborghini         1\n",
              "Ambassador          1\n",
              "Isuzu               1\n",
              "Name: Brand_Name, dtype: int64"
            ]
          },
          "metadata": {
            "tags": []
          },
          "execution_count": 12
        }
      ]
    },
    {
      "cell_type": "markdown",
      "metadata": {
        "id": "ySU8YDIu-suF"
      },
      "source": [
        "# 2. Kota yang Memiliki Mobil Bekas Terbanyak"
      ]
    },
    {
      "cell_type": "code",
      "metadata": {
        "id": "9-Ne92tx-suF"
      },
      "source": [
        "location = data['Location'].value_counts()"
      ],
      "execution_count": null,
      "outputs": []
    },
    {
      "cell_type": "code",
      "metadata": {
        "colab": {
          "base_uri": "https://localhost:8080/",
          "height": 221
        },
        "id": "iQ2x7lCJ-suI",
        "outputId": "324eb184-83c8-426b-da3a-30d88c9062c7"
      },
      "source": [
        "location"
      ],
      "execution_count": null,
      "outputs": [
        {
          "output_type": "execute_result",
          "data": {
            "text/plain": [
              "Mumbai        784\n",
              "Hyderabad     731\n",
              "Kochi         648\n",
              "Coimbatore    629\n",
              "Pune          611\n",
              "Delhi         552\n",
              "Kolkata       532\n",
              "Chennai       485\n",
              "Jaipur        408\n",
              "Bangalore     349\n",
              "Ahmedabad     220\n",
              "Name: Location, dtype: int64"
            ]
          },
          "metadata": {
            "tags": []
          },
          "execution_count": 14
        }
      ]
    },
    {
      "cell_type": "code",
      "metadata": {
        "colab": {
          "base_uri": "https://localhost:8080/",
          "height": 337
        },
        "id": "y6lUt1ZLGLrL",
        "outputId": "ee194dee-cfcb-48f3-d8a8-db3c7ee4b34d"
      },
      "source": [
        "plt.figure(figsize=(13,5))\n",
        "plt.bar(location.keys(), location.values)"
      ],
      "execution_count": null,
      "outputs": [
        {
          "output_type": "execute_result",
          "data": {
            "text/plain": [
              "<BarContainer object of 11 artists>"
            ]
          },
          "metadata": {
            "tags": []
          },
          "execution_count": 15
        },
        {
          "output_type": "display_data",
          "data": {
            "image/png": "[encoded data removed]",
            "text/plain": [
              "<Figure size 936x360 with 1 Axes>"
            ]
          },
          "metadata": {
            "tags": [],
            "needs_background": "light"
          }
        }
      ]
    },
    {
      "cell_type": "markdown",
      "metadata": {
        "id": "7aYtrnti-suL"
      },
      "source": [
        "# 3. Distribusi Tahun Edisi Mobil"
      ]
    },
    {
      "cell_type": "code",
      "metadata": {
        "colab": {
          "base_uri": "https://localhost:8080/",
          "height": 296
        },
        "id": "LwHj5rEI-suL",
        "outputId": "23d7d7fe-e36c-4d4d-98d8-887ffe907b0b"
      },
      "source": [
        "sns.boxplot(x=data['Year'])"
      ],
      "execution_count": null,
      "outputs": [
        {
          "output_type": "execute_result",
          "data": {
            "text/plain": [
              "<matplotlib.axes._subplots.AxesSubplot at 0x122014d30>"
            ]
          },
          "metadata": {
            "tags": []
          },
          "execution_count": 16
        },
        {
          "output_type": "display_data",
          "data": {
            "image/png": "[encoded data removed]",
            "text/plain": [
              "<Figure size 432x288 with 1 Axes>"
            ]
          },
          "metadata": {
            "tags": [],
            "needs_background": "light"
          }
        }
      ]
    },
    {
      "cell_type": "code",
      "metadata": {
        "id": "aTYx20RtQn_s"
      },
      "source": [
        "year = data['Year'].value_counts()"
      ],
      "execution_count": null,
      "outputs": []
    },
    {
      "cell_type": "code",
      "metadata": {
        "colab": {
          "base_uri": "https://localhost:8080/",
          "height": 408
        },
        "id": "l37ytOmRSQCm",
        "outputId": "97cbef67-72da-47f6-8c4b-f8eb6ce690fe"
      },
      "source": [
        "year"
      ],
      "execution_count": null,
      "outputs": [
        {
          "output_type": "execute_result",
          "data": {
            "text/plain": [
              "2014    795\n",
              "2015    741\n",
              "2016    738\n",
              "2013    647\n",
              "2017    587\n",
              "2012    569\n",
              "2011    462\n",
              "2010    338\n",
              "2018    297\n",
              "2009    193\n",
              "2008    167\n",
              "2007    121\n",
              "2019     99\n",
              "2006     74\n",
              "2005     52\n",
              "2004     26\n",
              "2003     16\n",
              "2002     11\n",
              "2001      6\n",
              "1998      4\n",
              "2000      4\n",
              "1999      2\n",
              "Name: Year, dtype: int64"
            ]
          },
          "metadata": {
            "tags": []
          },
          "execution_count": 18
        }
      ]
    },
    {
      "cell_type": "code",
      "metadata": {
        "id": "MMB6ReqJe6Y3",
        "outputId": "091b2554-1a71-4342-fb69-72e780f83c7e"
      },
      "source": [
        "sns.distplot(year, kde=False, fit=stats.gamma ) \n",
        "plt.xlim([0,2020])"
      ],
      "execution_count": null,
      "outputs": [
        {
          "output_type": "execute_result",
          "data": {
            "text/plain": [
              "(0, 2020)"
            ]
          },
          "metadata": {
            "tags": []
          },
          "execution_count": 19
        },
        {
          "output_type": "display_data",
          "data": {
            "image/png": "[encoded data removed]",
            "text/plain": [
              "<Figure size 432x288 with 1 Axes>"
            ]
          },
          "metadata": {
            "tags": [],
            "needs_background": "light"
          }
        }
      ]
    },
    {
      "cell_type": "code",
      "metadata": {
        "colab": {
          "base_uri": "https://localhost:8080/",
          "height": 337
        },
        "id": "oRYajO8UQxd0",
        "outputId": "90050532-e55c-497f-85b2-e3e4d97d0479"
      },
      "source": [
        "plt.figure(figsize=(13,5))\n",
        "plt.bar(year.keys(), year.values)"
      ],
      "execution_count": null,
      "outputs": [
        {
          "output_type": "execute_result",
          "data": {
            "text/plain": [
              "<BarContainer object of 22 artists>"
            ]
          },
          "metadata": {
            "tags": []
          },
          "execution_count": 20
        },
        {
          "output_type": "display_data",
          "data": {
            "image/png": "[encoded data removed]",
            "text/plain": [
              "<Figure size 936x360 with 1 Axes>"
            ]
          },
          "metadata": {
            "tags": [],
            "needs_background": "light"
          }
        }
      ]
    },
    {
      "cell_type": "markdown",
      "metadata": {
        "id": "k9l0wtPj-suO"
      },
      "source": [
        "# 4. Mobil dengan Total Jarak Pemakaian dibawah 100.000 km"
      ]
    },
    {
      "cell_type": "code",
      "metadata": {
        "id": "Y-Pp0ML4-suO"
      },
      "source": [
        "km_min = data.loc[data['Kilometers_Driven'].values < 100000]"
      ],
      "execution_count": null,
      "outputs": []
    },
    {
      "cell_type": "code",
      "metadata": {
        "colab": {
          "base_uri": "https://localhost:8080/",
          "height": 419
        },
        "id": "9HpZqQP1-suS",
        "outputId": "935c4c98-f9b6-45da-d98e-b26dcb9591b6"
      },
      "source": [
        "km_min"
      ],
      "execution_count": null,
      "outputs": [
        {
          "output_type": "execute_result",
          "data": {
            "text/html": [
              "<div>\n",
              "<style scoped>\n",
              "    .dataframe tbody tr th:only-of-type {\n",
              "        vertical-align: middle;\n",
              "    }\n",
              "\n",
              "    .dataframe tbody tr th {\n",
              "        vertical-align: top;\n",
              "    }\n",
              "\n",
              "    .dataframe thead th {\n",
              "        text-align: right;\n",
              "    }\n",
              "</style>\n",
              "<table border=\"1\" class=\"dataframe\">\n",
              "  <thead>\n",
              "    <tr style=\"text-align: right;\">\n",
              "      <th></th>\n",
              "      <th>Name</th>\n",
              "      <th>Location</th>\n",
              "      <th>Year</th>\n",
              "      <th>Kilometers_Driven</th>\n",
              "      <th>Fuel_Type</th>\n",
              "      <th>Transmission</th>\n",
              "      <th>Owner_Type</th>\n",
              "      <th>Mileage</th>\n",
              "      <th>Engine</th>\n",
              "      <th>Power</th>\n",
              "      <th>Seats</th>\n",
              "      <th>Price</th>\n",
              "      <th>Brand_Name</th>\n",
              "    </tr>\n",
              "  </thead>\n",
              "  <tbody>\n",
              "    <tr>\n",
              "      <th>0</th>\n",
              "      <td>Maruti Wagon R LXI CNG</td>\n",
              "      <td>Mumbai</td>\n",
              "      <td>2010</td>\n",
              "      <td>72000</td>\n",
              "      <td>CNG</td>\n",
              "      <td>Manual</td>\n",
              "      <td>First</td>\n",
              "      <td>26.60</td>\n",
              "      <td>998.0</td>\n",
              "      <td>58.16</td>\n",
              "      <td>5.0</td>\n",
              "      <td>1.75</td>\n",
              "      <td>Maruti</td>\n",
              "    </tr>\n",
              "    <tr>\n",
              "      <th>1</th>\n",
              "      <td>Hyundai Creta 1.6 CRDi SX Option</td>\n",
              "      <td>Pune</td>\n",
              "      <td>2015</td>\n",
              "      <td>41000</td>\n",
              "      <td>Diesel</td>\n",
              "      <td>Manual</td>\n",
              "      <td>First</td>\n",
              "      <td>19.67</td>\n",
              "      <td>1582.0</td>\n",
              "      <td>126.20</td>\n",
              "      <td>5.0</td>\n",
              "      <td>12.50</td>\n",
              "      <td>Hyundai</td>\n",
              "    </tr>\n",
              "    <tr>\n",
              "      <th>2</th>\n",
              "      <td>Honda Jazz V</td>\n",
              "      <td>Chennai</td>\n",
              "      <td>2011</td>\n",
              "      <td>46000</td>\n",
              "      <td>Petrol</td>\n",
              "      <td>Manual</td>\n",
              "      <td>First</td>\n",
              "      <td>18.20</td>\n",
              "      <td>1199.0</td>\n",
              "      <td>88.70</td>\n",
              "      <td>5.0</td>\n",
              "      <td>4.50</td>\n",
              "      <td>Honda</td>\n",
              "    </tr>\n",
              "    <tr>\n",
              "      <th>3</th>\n",
              "      <td>Maruti Ertiga VDI</td>\n",
              "      <td>Chennai</td>\n",
              "      <td>2012</td>\n",
              "      <td>87000</td>\n",
              "      <td>Diesel</td>\n",
              "      <td>Manual</td>\n",
              "      <td>First</td>\n",
              "      <td>20.77</td>\n",
              "      <td>1248.0</td>\n",
              "      <td>88.76</td>\n",
              "      <td>7.0</td>\n",
              "      <td>6.00</td>\n",
              "      <td>Maruti</td>\n",
              "    </tr>\n",
              "    <tr>\n",
              "      <th>4</th>\n",
              "      <td>Audi A4 New 2.0 TDI Multitronic</td>\n",
              "      <td>Coimbatore</td>\n",
              "      <td>2013</td>\n",
              "      <td>40670</td>\n",
              "      <td>Diesel</td>\n",
              "      <td>Automatic</td>\n",
              "      <td>Second</td>\n",
              "      <td>15.20</td>\n",
              "      <td>1968.0</td>\n",
              "      <td>140.80</td>\n",
              "      <td>5.0</td>\n",
              "      <td>17.74</td>\n",
              "      <td>Audi</td>\n",
              "    </tr>\n",
              "    <tr>\n",
              "      <th>...</th>\n",
              "      <td>...</td>\n",
              "      <td>...</td>\n",
              "      <td>...</td>\n",
              "      <td>...</td>\n",
              "      <td>...</td>\n",
              "      <td>...</td>\n",
              "      <td>...</td>\n",
              "      <td>...</td>\n",
              "      <td>...</td>\n",
              "      <td>...</td>\n",
              "      <td>...</td>\n",
              "      <td>...</td>\n",
              "      <td>...</td>\n",
              "    </tr>\n",
              "    <tr>\n",
              "      <th>6013</th>\n",
              "      <td>Honda Amaze VX i-DTEC</td>\n",
              "      <td>Coimbatore</td>\n",
              "      <td>2015</td>\n",
              "      <td>70602</td>\n",
              "      <td>Diesel</td>\n",
              "      <td>Manual</td>\n",
              "      <td>First</td>\n",
              "      <td>25.80</td>\n",
              "      <td>1498.0</td>\n",
              "      <td>98.60</td>\n",
              "      <td>5.0</td>\n",
              "      <td>4.83</td>\n",
              "      <td>Honda</td>\n",
              "    </tr>\n",
              "    <tr>\n",
              "      <th>6014</th>\n",
              "      <td>Maruti Swift VDI</td>\n",
              "      <td>Delhi</td>\n",
              "      <td>2014</td>\n",
              "      <td>27365</td>\n",
              "      <td>Diesel</td>\n",
              "      <td>Manual</td>\n",
              "      <td>First</td>\n",
              "      <td>28.40</td>\n",
              "      <td>1248.0</td>\n",
              "      <td>74.00</td>\n",
              "      <td>5.0</td>\n",
              "      <td>4.75</td>\n",
              "      <td>Maruti</td>\n",
              "    </tr>\n",
              "    <tr>\n",
              "      <th>6016</th>\n",
              "      <td>Mahindra Xylo D4 BSIV</td>\n",
              "      <td>Jaipur</td>\n",
              "      <td>2012</td>\n",
              "      <td>55000</td>\n",
              "      <td>Diesel</td>\n",
              "      <td>Manual</td>\n",
              "      <td>Second</td>\n",
              "      <td>14.00</td>\n",
              "      <td>2498.0</td>\n",
              "      <td>112.00</td>\n",
              "      <td>8.0</td>\n",
              "      <td>2.90</td>\n",
              "      <td>Mahindra</td>\n",
              "    </tr>\n",
              "    <tr>\n",
              "      <th>6017</th>\n",
              "      <td>Maruti Wagon R VXI</td>\n",
              "      <td>Kolkata</td>\n",
              "      <td>2013</td>\n",
              "      <td>46000</td>\n",
              "      <td>Petrol</td>\n",
              "      <td>Manual</td>\n",
              "      <td>First</td>\n",
              "      <td>18.90</td>\n",
              "      <td>998.0</td>\n",
              "      <td>67.10</td>\n",
              "      <td>5.0</td>\n",
              "      <td>2.65</td>\n",
              "      <td>Maruti</td>\n",
              "    </tr>\n",
              "    <tr>\n",
              "      <th>6018</th>\n",
              "      <td>Chevrolet Beat Diesel</td>\n",
              "      <td>Hyderabad</td>\n",
              "      <td>2011</td>\n",
              "      <td>47000</td>\n",
              "      <td>Diesel</td>\n",
              "      <td>Manual</td>\n",
              "      <td>First</td>\n",
              "      <td>25.44</td>\n",
              "      <td>936.0</td>\n",
              "      <td>57.60</td>\n",
              "      <td>5.0</td>\n",
              "      <td>2.50</td>\n",
              "      <td>Chevrolet</td>\n",
              "    </tr>\n",
              "  </tbody>\n",
              "</table>\n",
              "<p>5413 rows × 13 columns</p>\n",
              "</div>"
            ],
            "text/plain": [
              "                                  Name    Location  Year  Kilometers_Driven  \\\n",
              "0               Maruti Wagon R LXI CNG      Mumbai  2010              72000   \n",
              "1     Hyundai Creta 1.6 CRDi SX Option        Pune  2015              41000   \n",
              "2                         Honda Jazz V     Chennai  2011              46000   \n",
              "3                    Maruti Ertiga VDI     Chennai  2012              87000   \n",
              "4      Audi A4 New 2.0 TDI Multitronic  Coimbatore  2013              40670   \n",
              "...                                ...         ...   ...                ...   \n",
              "6013             Honda Amaze VX i-DTEC  Coimbatore  2015              70602   \n",
              "6014                  Maruti Swift VDI       Delhi  2014              27365   \n",
              "6016             Mahindra Xylo D4 BSIV      Jaipur  2012              55000   \n",
              "6017                Maruti Wagon R VXI     Kolkata  2013              46000   \n",
              "6018             Chevrolet Beat Diesel   Hyderabad  2011              47000   \n",
              "\n",
              "     Fuel_Type Transmission Owner_Type  Mileage  Engine   Power  Seats  Price  \\\n",
              "0          CNG       Manual      First    26.60   998.0   58.16    5.0   1.75   \n",
              "1       Diesel       Manual      First    19.67  1582.0  126.20    5.0  12.50   \n",
              "2       Petrol       Manual      First    18.20  1199.0   88.70    5.0   4.50   \n",
              "3       Diesel       Manual      First    20.77  1248.0   88.76    7.0   6.00   \n",
              "4       Diesel    Automatic     Second    15.20  1968.0  140.80    5.0  17.74   \n",
              "...        ...          ...        ...      ...     ...     ...    ...    ...   \n",
              "6013    Diesel       Manual      First    25.80  1498.0   98.60    5.0   4.83   \n",
              "6014    Diesel       Manual      First    28.40  1248.0   74.00    5.0   4.75   \n",
              "6016    Diesel       Manual     Second    14.00  2498.0  112.00    8.0   2.90   \n",
              "6017    Petrol       Manual      First    18.90   998.0   67.10    5.0   2.65   \n",
              "6018    Diesel       Manual      First    25.44   936.0   57.60    5.0   2.50   \n",
              "\n",
              "     Brand_Name  \n",
              "0        Maruti  \n",
              "1       Hyundai  \n",
              "2         Honda  \n",
              "3        Maruti  \n",
              "4          Audi  \n",
              "...         ...  \n",
              "6013      Honda  \n",
              "6014     Maruti  \n",
              "6016   Mahindra  \n",
              "6017     Maruti  \n",
              "6018  Chevrolet  \n",
              "\n",
              "[5413 rows x 13 columns]"
            ]
          },
          "metadata": {
            "tags": []
          },
          "execution_count": 22
        }
      ]
    },
    {
      "cell_type": "markdown",
      "metadata": {
        "id": "SXnOEbRg-suU"
      },
      "source": [
        "# 5. Batas Total Jarak Pemakaian"
      ]
    },
    {
      "cell_type": "code",
      "metadata": {
        "colab": {
          "base_uri": "https://localhost:8080/",
          "height": 153
        },
        "id": "mV_3BIeF-suV",
        "outputId": "9e642ca0-3f7f-419a-e18f-479f7a26b880"
      },
      "source": [
        "data.mean()"
      ],
      "execution_count": null,
      "outputs": [
        {
          "output_type": "execute_result",
          "data": {
            "text/plain": [
              "Year                  2013.406287\n",
              "Kilometers_Driven    58578.681963\n",
              "Mileage                 18.342252\n",
              "Engine                1620.186361\n",
              "Power                  111.628611\n",
              "Seats                    5.280284\n",
              "Price                    9.456606\n",
              "dtype: float64"
            ]
          },
          "metadata": {
            "tags": []
          },
          "execution_count": 23
        }
      ]
    },
    {
      "cell_type": "code",
      "metadata": {
        "id": "FGi9voRMe6Y7",
        "outputId": "f0555ada-42b2-46d9-b5c2-4c3577827c1c"
      },
      "source": [
        "data.describe()"
      ],
      "execution_count": null,
      "outputs": [
        {
          "output_type": "execute_result",
          "data": {
            "text/html": [
              "<div>\n",
              "<style scoped>\n",
              "    .dataframe tbody tr th:only-of-type {\n",
              "        vertical-align: middle;\n",
              "    }\n",
              "\n",
              "    .dataframe tbody tr th {\n",
              "        vertical-align: top;\n",
              "    }\n",
              "\n",
              "    .dataframe thead th {\n",
              "        text-align: right;\n",
              "    }\n",
              "</style>\n",
              "<table border=\"1\" class=\"dataframe\">\n",
              "  <thead>\n",
              "    <tr style=\"text-align: right;\">\n",
              "      <th></th>\n",
              "      <th>Year</th>\n",
              "      <th>Kilometers_Driven</th>\n",
              "      <th>Mileage</th>\n",
              "      <th>Engine</th>\n",
              "      <th>Power</th>\n",
              "      <th>Seats</th>\n",
              "      <th>Price</th>\n",
              "    </tr>\n",
              "  </thead>\n",
              "  <tbody>\n",
              "    <tr>\n",
              "      <th>count</th>\n",
              "      <td>5949.000000</td>\n",
              "      <td>5.949000e+03</td>\n",
              "      <td>5949.000000</td>\n",
              "      <td>5924.000000</td>\n",
              "      <td>5924.000000</td>\n",
              "      <td>5919.000000</td>\n",
              "      <td>5949.000000</td>\n",
              "    </tr>\n",
              "    <tr>\n",
              "      <th>mean</th>\n",
              "      <td>2013.406287</td>\n",
              "      <td>5.857868e+04</td>\n",
              "      <td>18.342252</td>\n",
              "      <td>1620.186361</td>\n",
              "      <td>111.628611</td>\n",
              "      <td>5.280284</td>\n",
              "      <td>9.456606</td>\n",
              "    </tr>\n",
              "    <tr>\n",
              "      <th>std</th>\n",
              "      <td>3.220777</td>\n",
              "      <td>9.167121e+04</td>\n",
              "      <td>4.175475</td>\n",
              "      <td>598.582314</td>\n",
              "      <td>55.001086</td>\n",
              "      <td>0.808038</td>\n",
              "      <td>11.139700</td>\n",
              "    </tr>\n",
              "    <tr>\n",
              "      <th>min</th>\n",
              "      <td>1998.000000</td>\n",
              "      <td>1.710000e+02</td>\n",
              "      <td>6.400000</td>\n",
              "      <td>624.000000</td>\n",
              "      <td>0.000000</td>\n",
              "      <td>0.000000</td>\n",
              "      <td>0.440000</td>\n",
              "    </tr>\n",
              "    <tr>\n",
              "      <th>25%</th>\n",
              "      <td>2012.000000</td>\n",
              "      <td>3.390100e+04</td>\n",
              "      <td>15.300000</td>\n",
              "      <td>1198.000000</td>\n",
              "      <td>74.000000</td>\n",
              "      <td>5.000000</td>\n",
              "      <td>3.500000</td>\n",
              "    </tr>\n",
              "    <tr>\n",
              "      <th>50%</th>\n",
              "      <td>2014.000000</td>\n",
              "      <td>5.300000e+04</td>\n",
              "      <td>18.200000</td>\n",
              "      <td>1493.000000</td>\n",
              "      <td>93.700000</td>\n",
              "      <td>5.000000</td>\n",
              "      <td>5.650000</td>\n",
              "    </tr>\n",
              "    <tr>\n",
              "      <th>75%</th>\n",
              "      <td>2016.000000</td>\n",
              "      <td>7.300000e+04</td>\n",
              "      <td>21.100000</td>\n",
              "      <td>1984.000000</td>\n",
              "      <td>138.100000</td>\n",
              "      <td>5.000000</td>\n",
              "      <td>9.900000</td>\n",
              "    </tr>\n",
              "    <tr>\n",
              "      <th>max</th>\n",
              "      <td>2019.000000</td>\n",
              "      <td>6.500000e+06</td>\n",
              "      <td>33.540000</td>\n",
              "      <td>5998.000000</td>\n",
              "      <td>560.000000</td>\n",
              "      <td>10.000000</td>\n",
              "      <td>160.000000</td>\n",
              "    </tr>\n",
              "  </tbody>\n",
              "</table>\n",
              "</div>"
            ],
            "text/plain": [
              "              Year  Kilometers_Driven      Mileage       Engine        Power  \\\n",
              "count  5949.000000       5.949000e+03  5949.000000  5924.000000  5924.000000   \n",
              "mean   2013.406287       5.857868e+04    18.342252  1620.186361   111.628611   \n",
              "std       3.220777       9.167121e+04     4.175475   598.582314    55.001086   \n",
              "min    1998.000000       1.710000e+02     6.400000   624.000000     0.000000   \n",
              "25%    2012.000000       3.390100e+04    15.300000  1198.000000    74.000000   \n",
              "50%    2014.000000       5.300000e+04    18.200000  1493.000000    93.700000   \n",
              "75%    2016.000000       7.300000e+04    21.100000  1984.000000   138.100000   \n",
              "max    2019.000000       6.500000e+06    33.540000  5998.000000   560.000000   \n",
              "\n",
              "             Seats        Price  \n",
              "count  5919.000000  5949.000000  \n",
              "mean      5.280284     9.456606  \n",
              "std       0.808038    11.139700  \n",
              "min       0.000000     0.440000  \n",
              "25%       5.000000     3.500000  \n",
              "50%       5.000000     5.650000  \n",
              "75%       5.000000     9.900000  \n",
              "max      10.000000   160.000000  "
            ]
          },
          "metadata": {
            "tags": []
          },
          "execution_count": 57
        }
      ]
    },
    {
      "cell_type": "markdown",
      "metadata": {
        "id": "OcgyemIs-suY"
      },
      "source": [
        "# 6. Outlier pada Kolom Kilometers_Driven"
      ]
    },
    {
      "cell_type": "code",
      "metadata": {
        "colab": {
          "base_uri": "https://localhost:8080/",
          "height": 297
        },
        "id": "oIrOOsC--suZ",
        "outputId": "a1fcb3d9-6ecd-45f9-b04a-646a0d907b88"
      },
      "source": [
        "sns.boxplot(x=data['Kilometers_Driven'])"
      ],
      "execution_count": null,
      "outputs": [
        {
          "output_type": "execute_result",
          "data": {
            "text/plain": [
              "<matplotlib.axes._subplots.AxesSubplot at 0x122497340>"
            ]
          },
          "metadata": {
            "tags": []
          },
          "execution_count": 24
        },
        {
          "output_type": "display_data",
          "data": {
            "image/png": "[encoded data removed]",
            "text/plain": [
              "<Figure size 432x288 with 1 Axes>"
            ]
          },
          "metadata": {
            "tags": [],
            "needs_background": "light"
          }
        }
      ]
    },
    {
      "cell_type": "code",
      "metadata": {
        "colab": {
          "base_uri": "https://localhost:8080/",
          "height": 419
        },
        "id": "BuA75JI6-sub",
        "outputId": "b73f385a-1b6e-481b-96d8-eef40e2e5e40"
      },
      "source": [
        "outlier = data.loc[data['Kilometers_Driven'].values < 600000]\n",
        "outlier"
      ],
      "execution_count": null,
      "outputs": [
        {
          "output_type": "execute_result",
          "data": {
            "text/html": [
              "<div>\n",
              "<style scoped>\n",
              "    .dataframe tbody tr th:only-of-type {\n",
              "        vertical-align: middle;\n",
              "    }\n",
              "\n",
              "    .dataframe tbody tr th {\n",
              "        vertical-align: top;\n",
              "    }\n",
              "\n",
              "    .dataframe thead th {\n",
              "        text-align: right;\n",
              "    }\n",
              "</style>\n",
              "<table border=\"1\" class=\"dataframe\">\n",
              "  <thead>\n",
              "    <tr style=\"text-align: right;\">\n",
              "      <th></th>\n",
              "      <th>Name</th>\n",
              "      <th>Location</th>\n",
              "      <th>Year</th>\n",
              "      <th>Kilometers_Driven</th>\n",
              "      <th>Fuel_Type</th>\n",
              "      <th>Transmission</th>\n",
              "      <th>Owner_Type</th>\n",
              "      <th>Mileage</th>\n",
              "      <th>Engine</th>\n",
              "      <th>Power</th>\n",
              "      <th>Seats</th>\n",
              "      <th>Price</th>\n",
              "      <th>Brand_Name</th>\n",
              "    </tr>\n",
              "  </thead>\n",
              "  <tbody>\n",
              "    <tr>\n",
              "      <th>0</th>\n",
              "      <td>Maruti Wagon R LXI CNG</td>\n",
              "      <td>Mumbai</td>\n",
              "      <td>2010</td>\n",
              "      <td>72000</td>\n",
              "      <td>CNG</td>\n",
              "      <td>Manual</td>\n",
              "      <td>First</td>\n",
              "      <td>26.60</td>\n",
              "      <td>998.0</td>\n",
              "      <td>58.16</td>\n",
              "      <td>5.0</td>\n",
              "      <td>1.75</td>\n",
              "      <td>Maruti</td>\n",
              "    </tr>\n",
              "    <tr>\n",
              "      <th>1</th>\n",
              "      <td>Hyundai Creta 1.6 CRDi SX Option</td>\n",
              "      <td>Pune</td>\n",
              "      <td>2015</td>\n",
              "      <td>41000</td>\n",
              "      <td>Diesel</td>\n",
              "      <td>Manual</td>\n",
              "      <td>First</td>\n",
              "      <td>19.67</td>\n",
              "      <td>1582.0</td>\n",
              "      <td>126.20</td>\n",
              "      <td>5.0</td>\n",
              "      <td>12.50</td>\n",
              "      <td>Hyundai</td>\n",
              "    </tr>\n",
              "    <tr>\n",
              "      <th>2</th>\n",
              "      <td>Honda Jazz V</td>\n",
              "      <td>Chennai</td>\n",
              "      <td>2011</td>\n",
              "      <td>46000</td>\n",
              "      <td>Petrol</td>\n",
              "      <td>Manual</td>\n",
              "      <td>First</td>\n",
              "      <td>18.20</td>\n",
              "      <td>1199.0</td>\n",
              "      <td>88.70</td>\n",
              "      <td>5.0</td>\n",
              "      <td>4.50</td>\n",
              "      <td>Honda</td>\n",
              "    </tr>\n",
              "    <tr>\n",
              "      <th>3</th>\n",
              "      <td>Maruti Ertiga VDI</td>\n",
              "      <td>Chennai</td>\n",
              "      <td>2012</td>\n",
              "      <td>87000</td>\n",
              "      <td>Diesel</td>\n",
              "      <td>Manual</td>\n",
              "      <td>First</td>\n",
              "      <td>20.77</td>\n",
              "      <td>1248.0</td>\n",
              "      <td>88.76</td>\n",
              "      <td>7.0</td>\n",
              "      <td>6.00</td>\n",
              "      <td>Maruti</td>\n",
              "    </tr>\n",
              "    <tr>\n",
              "      <th>4</th>\n",
              "      <td>Audi A4 New 2.0 TDI Multitronic</td>\n",
              "      <td>Coimbatore</td>\n",
              "      <td>2013</td>\n",
              "      <td>40670</td>\n",
              "      <td>Diesel</td>\n",
              "      <td>Automatic</td>\n",
              "      <td>Second</td>\n",
              "      <td>15.20</td>\n",
              "      <td>1968.0</td>\n",
              "      <td>140.80</td>\n",
              "      <td>5.0</td>\n",
              "      <td>17.74</td>\n",
              "      <td>Audi</td>\n",
              "    </tr>\n",
              "    <tr>\n",
              "      <th>...</th>\n",
              "      <td>...</td>\n",
              "      <td>...</td>\n",
              "      <td>...</td>\n",
              "      <td>...</td>\n",
              "      <td>...</td>\n",
              "      <td>...</td>\n",
              "      <td>...</td>\n",
              "      <td>...</td>\n",
              "      <td>...</td>\n",
              "      <td>...</td>\n",
              "      <td>...</td>\n",
              "      <td>...</td>\n",
              "      <td>...</td>\n",
              "    </tr>\n",
              "    <tr>\n",
              "      <th>6014</th>\n",
              "      <td>Maruti Swift VDI</td>\n",
              "      <td>Delhi</td>\n",
              "      <td>2014</td>\n",
              "      <td>27365</td>\n",
              "      <td>Diesel</td>\n",
              "      <td>Manual</td>\n",
              "      <td>First</td>\n",
              "      <td>28.40</td>\n",
              "      <td>1248.0</td>\n",
              "      <td>74.00</td>\n",
              "      <td>5.0</td>\n",
              "      <td>4.75</td>\n",
              "      <td>Maruti</td>\n",
              "    </tr>\n",
              "    <tr>\n",
              "      <th>6015</th>\n",
              "      <td>Hyundai Xcent 1.1 CRDi S</td>\n",
              "      <td>Jaipur</td>\n",
              "      <td>2015</td>\n",
              "      <td>100000</td>\n",
              "      <td>Diesel</td>\n",
              "      <td>Manual</td>\n",
              "      <td>First</td>\n",
              "      <td>24.40</td>\n",
              "      <td>1120.0</td>\n",
              "      <td>71.00</td>\n",
              "      <td>5.0</td>\n",
              "      <td>4.00</td>\n",
              "      <td>Hyundai</td>\n",
              "    </tr>\n",
              "    <tr>\n",
              "      <th>6016</th>\n",
              "      <td>Mahindra Xylo D4 BSIV</td>\n",
              "      <td>Jaipur</td>\n",
              "      <td>2012</td>\n",
              "      <td>55000</td>\n",
              "      <td>Diesel</td>\n",
              "      <td>Manual</td>\n",
              "      <td>Second</td>\n",
              "      <td>14.00</td>\n",
              "      <td>2498.0</td>\n",
              "      <td>112.00</td>\n",
              "      <td>8.0</td>\n",
              "      <td>2.90</td>\n",
              "      <td>Mahindra</td>\n",
              "    </tr>\n",
              "    <tr>\n",
              "      <th>6017</th>\n",
              "      <td>Maruti Wagon R VXI</td>\n",
              "      <td>Kolkata</td>\n",
              "      <td>2013</td>\n",
              "      <td>46000</td>\n",
              "      <td>Petrol</td>\n",
              "      <td>Manual</td>\n",
              "      <td>First</td>\n",
              "      <td>18.90</td>\n",
              "      <td>998.0</td>\n",
              "      <td>67.10</td>\n",
              "      <td>5.0</td>\n",
              "      <td>2.65</td>\n",
              "      <td>Maruti</td>\n",
              "    </tr>\n",
              "    <tr>\n",
              "      <th>6018</th>\n",
              "      <td>Chevrolet Beat Diesel</td>\n",
              "      <td>Hyderabad</td>\n",
              "      <td>2011</td>\n",
              "      <td>47000</td>\n",
              "      <td>Diesel</td>\n",
              "      <td>Manual</td>\n",
              "      <td>First</td>\n",
              "      <td>25.44</td>\n",
              "      <td>936.0</td>\n",
              "      <td>57.60</td>\n",
              "      <td>5.0</td>\n",
              "      <td>2.50</td>\n",
              "      <td>Chevrolet</td>\n",
              "    </tr>\n",
              "  </tbody>\n",
              "</table>\n",
              "<p>5945 rows × 13 columns</p>\n",
              "</div>"
            ],
            "text/plain": [
              "                                  Name    Location  Year  Kilometers_Driven  \\\n",
              "0               Maruti Wagon R LXI CNG      Mumbai  2010              72000   \n",
              "1     Hyundai Creta 1.6 CRDi SX Option        Pune  2015              41000   \n",
              "2                         Honda Jazz V     Chennai  2011              46000   \n",
              "3                    Maruti Ertiga VDI     Chennai  2012              87000   \n",
              "4      Audi A4 New 2.0 TDI Multitronic  Coimbatore  2013              40670   \n",
              "...                                ...         ...   ...                ...   \n",
              "6014                  Maruti Swift VDI       Delhi  2014              27365   \n",
              "6015          Hyundai Xcent 1.1 CRDi S      Jaipur  2015             100000   \n",
              "6016             Mahindra Xylo D4 BSIV      Jaipur  2012              55000   \n",
              "6017                Maruti Wagon R VXI     Kolkata  2013              46000   \n",
              "6018             Chevrolet Beat Diesel   Hyderabad  2011              47000   \n",
              "\n",
              "     Fuel_Type Transmission Owner_Type  Mileage  Engine   Power  Seats  Price  \\\n",
              "0          CNG       Manual      First    26.60   998.0   58.16    5.0   1.75   \n",
              "1       Diesel       Manual      First    19.67  1582.0  126.20    5.0  12.50   \n",
              "2       Petrol       Manual      First    18.20  1199.0   88.70    5.0   4.50   \n",
              "3       Diesel       Manual      First    20.77  1248.0   88.76    7.0   6.00   \n",
              "4       Diesel    Automatic     Second    15.20  1968.0  140.80    5.0  17.74   \n",
              "...        ...          ...        ...      ...     ...     ...    ...    ...   \n",
              "6014    Diesel       Manual      First    28.40  1248.0   74.00    5.0   4.75   \n",
              "6015    Diesel       Manual      First    24.40  1120.0   71.00    5.0   4.00   \n",
              "6016    Diesel       Manual     Second    14.00  2498.0  112.00    8.0   2.90   \n",
              "6017    Petrol       Manual      First    18.90   998.0   67.10    5.0   2.65   \n",
              "6018    Diesel       Manual      First    25.44   936.0   57.60    5.0   2.50   \n",
              "\n",
              "     Brand_Name  \n",
              "0        Maruti  \n",
              "1       Hyundai  \n",
              "2         Honda  \n",
              "3        Maruti  \n",
              "4          Audi  \n",
              "...         ...  \n",
              "6014     Maruti  \n",
              "6015    Hyundai  \n",
              "6016   Mahindra  \n",
              "6017     Maruti  \n",
              "6018  Chevrolet  \n",
              "\n",
              "[5945 rows x 13 columns]"
            ]
          },
          "metadata": {
            "tags": []
          },
          "execution_count": 25
        }
      ]
    },
    {
      "cell_type": "code",
      "metadata": {
        "colab": {
          "base_uri": "https://localhost:8080/",
          "height": 352
        },
        "id": "4IiPM1IN-sue",
        "outputId": "bce15fff-927b-4f7a-8a2f-1f4562df4e21"
      },
      "source": [
        "plt.figure(figsize=(16,5))\n",
        "sns.boxplot(x=outlier['Kilometers_Driven'])"
      ],
      "execution_count": null,
      "outputs": [
        {
          "output_type": "execute_result",
          "data": {
            "text/plain": [
              "<matplotlib.axes._subplots.AxesSubplot at 0x121f16f10>"
            ]
          },
          "metadata": {
            "tags": []
          },
          "execution_count": 26
        },
        {
          "output_type": "display_data",
          "data": {
            "image/png": "[encoded data removed]",
            "text/plain": [
              "<Figure size 1152x360 with 1 Axes>"
            ]
          },
          "metadata": {
            "tags": [],
            "needs_background": "light"
          }
        }
      ]
    },
    {
      "cell_type": "markdown",
      "metadata": {
        "id": "VbIvJyIG-suh"
      },
      "source": [
        "# 7. Pengaruh Tahun Pembuatan terhadap Total Jarak Pemakaian"
      ]
    },
    {
      "cell_type": "code",
      "metadata": {
        "colab": {
          "base_uri": "https://localhost:8080/",
          "height": 266
        },
        "id": "op8UxmVD-suh",
        "outputId": "863d664c-f239-42c3-8fd9-6a7511664e51"
      },
      "source": [
        "data.corr()"
      ],
      "execution_count": null,
      "outputs": [
        {
          "output_type": "execute_result",
          "data": {
            "text/html": [
              "<div>\n",
              "<style scoped>\n",
              "    .dataframe tbody tr th:only-of-type {\n",
              "        vertical-align: middle;\n",
              "    }\n",
              "\n",
              "    .dataframe tbody tr th {\n",
              "        vertical-align: top;\n",
              "    }\n",
              "\n",
              "    .dataframe thead th {\n",
              "        text-align: right;\n",
              "    }\n",
              "</style>\n",
              "<table border=\"1\" class=\"dataframe\">\n",
              "  <thead>\n",
              "    <tr style=\"text-align: right;\">\n",
              "      <th></th>\n",
              "      <th>Year</th>\n",
              "      <th>Kilometers_Driven</th>\n",
              "      <th>Mileage</th>\n",
              "      <th>Engine</th>\n",
              "      <th>Power</th>\n",
              "      <th>Seats</th>\n",
              "      <th>Price</th>\n",
              "    </tr>\n",
              "  </thead>\n",
              "  <tbody>\n",
              "    <tr>\n",
              "      <th>Year</th>\n",
              "      <td>1.000000</td>\n",
              "      <td>-0.170561</td>\n",
              "      <td>0.296718</td>\n",
              "      <td>-0.059206</td>\n",
              "      <td>0.049545</td>\n",
              "      <td>0.014011</td>\n",
              "      <td>0.302463</td>\n",
              "    </tr>\n",
              "    <tr>\n",
              "      <th>Kilometers_Driven</th>\n",
              "      <td>-0.170561</td>\n",
              "      <td>1.000000</td>\n",
              "      <td>-0.064283</td>\n",
              "      <td>0.092561</td>\n",
              "      <td>0.028730</td>\n",
              "      <td>0.081654</td>\n",
              "      <td>-0.009048</td>\n",
              "    </tr>\n",
              "    <tr>\n",
              "      <th>Mileage</th>\n",
              "      <td>0.296718</td>\n",
              "      <td>-0.064283</td>\n",
              "      <td>1.000000</td>\n",
              "      <td>-0.646476</td>\n",
              "      <td>-0.528542</td>\n",
              "      <td>-0.344770</td>\n",
              "      <td>-0.333263</td>\n",
              "    </tr>\n",
              "    <tr>\n",
              "      <th>Engine</th>\n",
              "      <td>-0.059206</td>\n",
              "      <td>0.092561</td>\n",
              "      <td>-0.646476</td>\n",
              "      <td>1.000000</td>\n",
              "      <td>0.846096</td>\n",
              "      <td>0.396462</td>\n",
              "      <td>0.658365</td>\n",
              "    </tr>\n",
              "    <tr>\n",
              "      <th>Power</th>\n",
              "      <td>0.049545</td>\n",
              "      <td>0.028730</td>\n",
              "      <td>-0.528542</td>\n",
              "      <td>0.846096</td>\n",
              "      <td>1.000000</td>\n",
              "      <td>0.111277</td>\n",
              "      <td>0.763067</td>\n",
              "    </tr>\n",
              "    <tr>\n",
              "      <th>Seats</th>\n",
              "      <td>0.014011</td>\n",
              "      <td>0.081654</td>\n",
              "      <td>-0.344770</td>\n",
              "      <td>0.396462</td>\n",
              "      <td>0.111277</td>\n",
              "      <td>1.000000</td>\n",
              "      <td>0.054557</td>\n",
              "    </tr>\n",
              "    <tr>\n",
              "      <th>Price</th>\n",
              "      <td>0.302463</td>\n",
              "      <td>-0.009048</td>\n",
              "      <td>-0.333263</td>\n",
              "      <td>0.658365</td>\n",
              "      <td>0.763067</td>\n",
              "      <td>0.054557</td>\n",
              "      <td>1.000000</td>\n",
              "    </tr>\n",
              "  </tbody>\n",
              "</table>\n",
              "</div>"
            ],
            "text/plain": [
              "                       Year  Kilometers_Driven   Mileage    Engine     Power  \\\n",
              "Year               1.000000          -0.170561  0.296718 -0.059206  0.049545   \n",
              "Kilometers_Driven -0.170561           1.000000 -0.064283  0.092561  0.028730   \n",
              "Mileage            0.296718          -0.064283  1.000000 -0.646476 -0.528542   \n",
              "Engine            -0.059206           0.092561 -0.646476  1.000000  0.846096   \n",
              "Power              0.049545           0.028730 -0.528542  0.846096  1.000000   \n",
              "Seats              0.014011           0.081654 -0.344770  0.396462  0.111277   \n",
              "Price              0.302463          -0.009048 -0.333263  0.658365  0.763067   \n",
              "\n",
              "                      Seats     Price  \n",
              "Year               0.014011  0.302463  \n",
              "Kilometers_Driven  0.081654 -0.009048  \n",
              "Mileage           -0.344770 -0.333263  \n",
              "Engine             0.396462  0.658365  \n",
              "Power              0.111277  0.763067  \n",
              "Seats              1.000000  0.054557  \n",
              "Price              0.054557  1.000000  "
            ]
          },
          "metadata": {
            "tags": []
          },
          "execution_count": 27
        }
      ]
    },
    {
      "cell_type": "code",
      "metadata": {
        "colab": {
          "base_uri": "https://localhost:8080/",
          "height": 365
        },
        "id": "r40BMIFs-suk",
        "outputId": "04d574ef-ce7e-48c7-89db-6c5c25029d4d"
      },
      "source": [
        "corr_data = data.groupby('Year')['Kilometers_Driven'].mean()\n",
        "corr_data.plot(kind='bar', figsize=(10,5))\n",
        "plt.title('Pengaruh Tahun Pembuatan terhadap Total Jarak Pemakaian')\n",
        "plt.ylabel('Total jarak pemakaian')\n",
        "plt.xlabel('Tahun');"
      ],
      "execution_count": null,
      "outputs": [
        {
          "output_type": "display_data",
          "data": {
            "image/png": "[encoded data removed]",
            "text/plain": [
              "<Figure size 720x360 with 1 Axes>"
            ]
          },
          "metadata": {
            "tags": [],
            "needs_background": "light"
          }
        }
      ]
    },
    {
      "cell_type": "markdown",
      "metadata": {
        "id": "YXnRvf4a-sum"
      },
      "source": [
        "# 8. Mobil dengan Pemilik Orang Ketiga atau Lebih"
      ]
    },
    {
      "cell_type": "code",
      "metadata": {
        "id": "4OuqmXai-sun"
      },
      "source": [
        "mask = ((data['Owner_Type'].values != 'First') & (data['Owner_Type'].values != 'Second'))"
      ],
      "execution_count": null,
      "outputs": []
    },
    {
      "cell_type": "code",
      "metadata": {
        "id": "qq-1QI2a-suq"
      },
      "source": [
        "car_owner = data.loc[mask]"
      ],
      "execution_count": null,
      "outputs": []
    },
    {
      "cell_type": "code",
      "metadata": {
        "colab": {
          "base_uri": "https://localhost:8080/",
          "height": 238
        },
        "id": "JSZc9Xk--suu",
        "outputId": "6ddc8495-8316-4d79-e428-dd45da046fc8"
      },
      "source": [
        "car_owner.count()"
      ],
      "execution_count": null,
      "outputs": [
        {
          "output_type": "execute_result",
          "data": {
            "text/plain": [
              "Name                 117\n",
              "Location             117\n",
              "Year                 117\n",
              "Kilometers_Driven    117\n",
              "Fuel_Type            117\n",
              "Transmission         117\n",
              "Owner_Type           117\n",
              "Mileage              117\n",
              "Engine               114\n",
              "Power                114\n",
              "Seats                114\n",
              "Price                117\n",
              "Brand_Name           117\n",
              "dtype: int64"
            ]
          },
          "metadata": {
            "tags": []
          },
          "execution_count": 31
        }
      ]
    },
    {
      "cell_type": "markdown",
      "metadata": {
        "id": "v_tj6Qzt-suw"
      },
      "source": [
        "# 9. Tipe Bahan Bakar dengan Mileage Paling Hemat"
      ]
    },
    {
      "cell_type": "code",
      "metadata": {
        "colab": {
          "base_uri": "https://localhost:8080/",
          "height": 419
        },
        "id": "CDPz9BBk-sux",
        "outputId": "834df6c3-a200-4cd6-ee9d-75d43fef195a"
      },
      "source": [
        "data"
      ],
      "execution_count": null,
      "outputs": [
        {
          "output_type": "execute_result",
          "data": {
            "text/html": [
              "<div>\n",
              "<style scoped>\n",
              "    .dataframe tbody tr th:only-of-type {\n",
              "        vertical-align: middle;\n",
              "    }\n",
              "\n",
              "    .dataframe tbody tr th {\n",
              "        vertical-align: top;\n",
              "    }\n",
              "\n",
              "    .dataframe thead th {\n",
              "        text-align: right;\n",
              "    }\n",
              "</style>\n",
              "<table border=\"1\" class=\"dataframe\">\n",
              "  <thead>\n",
              "    <tr style=\"text-align: right;\">\n",
              "      <th></th>\n",
              "      <th>Name</th>\n",
              "      <th>Location</th>\n",
              "      <th>Year</th>\n",
              "      <th>Kilometers_Driven</th>\n",
              "      <th>Fuel_Type</th>\n",
              "      <th>Transmission</th>\n",
              "      <th>Owner_Type</th>\n",
              "      <th>Mileage</th>\n",
              "      <th>Engine</th>\n",
              "      <th>Power</th>\n",
              "      <th>Seats</th>\n",
              "      <th>Price</th>\n",
              "      <th>Brand_Name</th>\n",
              "    </tr>\n",
              "  </thead>\n",
              "  <tbody>\n",
              "    <tr>\n",
              "      <th>0</th>\n",
              "      <td>Maruti Wagon R LXI CNG</td>\n",
              "      <td>Mumbai</td>\n",
              "      <td>2010</td>\n",
              "      <td>72000</td>\n",
              "      <td>CNG</td>\n",
              "      <td>Manual</td>\n",
              "      <td>First</td>\n",
              "      <td>26.60</td>\n",
              "      <td>998.0</td>\n",
              "      <td>58.16</td>\n",
              "      <td>5.0</td>\n",
              "      <td>1.75</td>\n",
              "      <td>Maruti</td>\n",
              "    </tr>\n",
              "    <tr>\n",
              "      <th>1</th>\n",
              "      <td>Hyundai Creta 1.6 CRDi SX Option</td>\n",
              "      <td>Pune</td>\n",
              "      <td>2015</td>\n",
              "      <td>41000</td>\n",
              "      <td>Diesel</td>\n",
              "      <td>Manual</td>\n",
              "      <td>First</td>\n",
              "      <td>19.67</td>\n",
              "      <td>1582.0</td>\n",
              "      <td>126.20</td>\n",
              "      <td>5.0</td>\n",
              "      <td>12.50</td>\n",
              "      <td>Hyundai</td>\n",
              "    </tr>\n",
              "    <tr>\n",
              "      <th>2</th>\n",
              "      <td>Honda Jazz V</td>\n",
              "      <td>Chennai</td>\n",
              "      <td>2011</td>\n",
              "      <td>46000</td>\n",
              "      <td>Petrol</td>\n",
              "      <td>Manual</td>\n",
              "      <td>First</td>\n",
              "      <td>18.20</td>\n",
              "      <td>1199.0</td>\n",
              "      <td>88.70</td>\n",
              "      <td>5.0</td>\n",
              "      <td>4.50</td>\n",
              "      <td>Honda</td>\n",
              "    </tr>\n",
              "    <tr>\n",
              "      <th>3</th>\n",
              "      <td>Maruti Ertiga VDI</td>\n",
              "      <td>Chennai</td>\n",
              "      <td>2012</td>\n",
              "      <td>87000</td>\n",
              "      <td>Diesel</td>\n",
              "      <td>Manual</td>\n",
              "      <td>First</td>\n",
              "      <td>20.77</td>\n",
              "      <td>1248.0</td>\n",
              "      <td>88.76</td>\n",
              "      <td>7.0</td>\n",
              "      <td>6.00</td>\n",
              "      <td>Maruti</td>\n",
              "    </tr>\n",
              "    <tr>\n",
              "      <th>4</th>\n",
              "      <td>Audi A4 New 2.0 TDI Multitronic</td>\n",
              "      <td>Coimbatore</td>\n",
              "      <td>2013</td>\n",
              "      <td>40670</td>\n",
              "      <td>Diesel</td>\n",
              "      <td>Automatic</td>\n",
              "      <td>Second</td>\n",
              "      <td>15.20</td>\n",
              "      <td>1968.0</td>\n",
              "      <td>140.80</td>\n",
              "      <td>5.0</td>\n",
              "      <td>17.74</td>\n",
              "      <td>Audi</td>\n",
              "    </tr>\n",
              "    <tr>\n",
              "      <th>...</th>\n",
              "      <td>...</td>\n",
              "      <td>...</td>\n",
              "      <td>...</td>\n",
              "      <td>...</td>\n",
              "      <td>...</td>\n",
              "      <td>...</td>\n",
              "      <td>...</td>\n",
              "      <td>...</td>\n",
              "      <td>...</td>\n",
              "      <td>...</td>\n",
              "      <td>...</td>\n",
              "      <td>...</td>\n",
              "      <td>...</td>\n",
              "    </tr>\n",
              "    <tr>\n",
              "      <th>6014</th>\n",
              "      <td>Maruti Swift VDI</td>\n",
              "      <td>Delhi</td>\n",
              "      <td>2014</td>\n",
              "      <td>27365</td>\n",
              "      <td>Diesel</td>\n",
              "      <td>Manual</td>\n",
              "      <td>First</td>\n",
              "      <td>28.40</td>\n",
              "      <td>1248.0</td>\n",
              "      <td>74.00</td>\n",
              "      <td>5.0</td>\n",
              "      <td>4.75</td>\n",
              "      <td>Maruti</td>\n",
              "    </tr>\n",
              "    <tr>\n",
              "      <th>6015</th>\n",
              "      <td>Hyundai Xcent 1.1 CRDi S</td>\n",
              "      <td>Jaipur</td>\n",
              "      <td>2015</td>\n",
              "      <td>100000</td>\n",
              "      <td>Diesel</td>\n",
              "      <td>Manual</td>\n",
              "      <td>First</td>\n",
              "      <td>24.40</td>\n",
              "      <td>1120.0</td>\n",
              "      <td>71.00</td>\n",
              "      <td>5.0</td>\n",
              "      <td>4.00</td>\n",
              "      <td>Hyundai</td>\n",
              "    </tr>\n",
              "    <tr>\n",
              "      <th>6016</th>\n",
              "      <td>Mahindra Xylo D4 BSIV</td>\n",
              "      <td>Jaipur</td>\n",
              "      <td>2012</td>\n",
              "      <td>55000</td>\n",
              "      <td>Diesel</td>\n",
              "      <td>Manual</td>\n",
              "      <td>Second</td>\n",
              "      <td>14.00</td>\n",
              "      <td>2498.0</td>\n",
              "      <td>112.00</td>\n",
              "      <td>8.0</td>\n",
              "      <td>2.90</td>\n",
              "      <td>Mahindra</td>\n",
              "    </tr>\n",
              "    <tr>\n",
              "      <th>6017</th>\n",
              "      <td>Maruti Wagon R VXI</td>\n",
              "      <td>Kolkata</td>\n",
              "      <td>2013</td>\n",
              "      <td>46000</td>\n",
              "      <td>Petrol</td>\n",
              "      <td>Manual</td>\n",
              "      <td>First</td>\n",
              "      <td>18.90</td>\n",
              "      <td>998.0</td>\n",
              "      <td>67.10</td>\n",
              "      <td>5.0</td>\n",
              "      <td>2.65</td>\n",
              "      <td>Maruti</td>\n",
              "    </tr>\n",
              "    <tr>\n",
              "      <th>6018</th>\n",
              "      <td>Chevrolet Beat Diesel</td>\n",
              "      <td>Hyderabad</td>\n",
              "      <td>2011</td>\n",
              "      <td>47000</td>\n",
              "      <td>Diesel</td>\n",
              "      <td>Manual</td>\n",
              "      <td>First</td>\n",
              "      <td>25.44</td>\n",
              "      <td>936.0</td>\n",
              "      <td>57.60</td>\n",
              "      <td>5.0</td>\n",
              "      <td>2.50</td>\n",
              "      <td>Chevrolet</td>\n",
              "    </tr>\n",
              "  </tbody>\n",
              "</table>\n",
              "<p>5949 rows × 13 columns</p>\n",
              "</div>"
            ],
            "text/plain": [
              "                                  Name    Location  Year  Kilometers_Driven  \\\n",
              "0               Maruti Wagon R LXI CNG      Mumbai  2010              72000   \n",
              "1     Hyundai Creta 1.6 CRDi SX Option        Pune  2015              41000   \n",
              "2                         Honda Jazz V     Chennai  2011              46000   \n",
              "3                    Maruti Ertiga VDI     Chennai  2012              87000   \n",
              "4      Audi A4 New 2.0 TDI Multitronic  Coimbatore  2013              40670   \n",
              "...                                ...         ...   ...                ...   \n",
              "6014                  Maruti Swift VDI       Delhi  2014              27365   \n",
              "6015          Hyundai Xcent 1.1 CRDi S      Jaipur  2015             100000   \n",
              "6016             Mahindra Xylo D4 BSIV      Jaipur  2012              55000   \n",
              "6017                Maruti Wagon R VXI     Kolkata  2013              46000   \n",
              "6018             Chevrolet Beat Diesel   Hyderabad  2011              47000   \n",
              "\n",
              "     Fuel_Type Transmission Owner_Type  Mileage  Engine   Power  Seats  Price  \\\n",
              "0          CNG       Manual      First    26.60   998.0   58.16    5.0   1.75   \n",
              "1       Diesel       Manual      First    19.67  1582.0  126.20    5.0  12.50   \n",
              "2       Petrol       Manual      First    18.20  1199.0   88.70    5.0   4.50   \n",
              "3       Diesel       Manual      First    20.77  1248.0   88.76    7.0   6.00   \n",
              "4       Diesel    Automatic     Second    15.20  1968.0  140.80    5.0  17.74   \n",
              "...        ...          ...        ...      ...     ...     ...    ...    ...   \n",
              "6014    Diesel       Manual      First    28.40  1248.0   74.00    5.0   4.75   \n",
              "6015    Diesel       Manual      First    24.40  1120.0   71.00    5.0   4.00   \n",
              "6016    Diesel       Manual     Second    14.00  2498.0  112.00    8.0   2.90   \n",
              "6017    Petrol       Manual      First    18.90   998.0   67.10    5.0   2.65   \n",
              "6018    Diesel       Manual      First    25.44   936.0   57.60    5.0   2.50   \n",
              "\n",
              "     Brand_Name  \n",
              "0        Maruti  \n",
              "1       Hyundai  \n",
              "2         Honda  \n",
              "3        Maruti  \n",
              "4          Audi  \n",
              "...         ...  \n",
              "6014     Maruti  \n",
              "6015    Hyundai  \n",
              "6016   Mahindra  \n",
              "6017     Maruti  \n",
              "6018  Chevrolet  \n",
              "\n",
              "[5949 rows x 13 columns]"
            ]
          },
          "metadata": {
            "tags": []
          },
          "execution_count": 32
        }
      ]
    },
    {
      "cell_type": "code",
      "metadata": {
        "colab": {
          "base_uri": "https://localhost:8080/",
          "height": 1000
        },
        "id": "Mz217vTs-su1",
        "outputId": "bd763771-0f83-478b-97f4-544767bde6d6"
      },
      "source": [
        "data.loc[data['Mileage'].values < 10]"
      ],
      "execution_count": null,
      "outputs": [
        {
          "output_type": "execute_result",
          "data": {
            "text/html": [
              "<div>\n",
              "<style scoped>\n",
              "    .dataframe tbody tr th:only-of-type {\n",
              "        vertical-align: middle;\n",
              "    }\n",
              "\n",
              "    .dataframe tbody tr th {\n",
              "        vertical-align: top;\n",
              "    }\n",
              "\n",
              "    .dataframe thead th {\n",
              "        text-align: right;\n",
              "    }\n",
              "</style>\n",
              "<table border=\"1\" class=\"dataframe\">\n",
              "  <thead>\n",
              "    <tr style=\"text-align: right;\">\n",
              "      <th></th>\n",
              "      <th>Name</th>\n",
              "      <th>Location</th>\n",
              "      <th>Year</th>\n",
              "      <th>Kilometers_Driven</th>\n",
              "      <th>Fuel_Type</th>\n",
              "      <th>Transmission</th>\n",
              "      <th>Owner_Type</th>\n",
              "      <th>Mileage</th>\n",
              "      <th>Engine</th>\n",
              "      <th>Power</th>\n",
              "      <th>Seats</th>\n",
              "      <th>Price</th>\n",
              "      <th>Brand_Name</th>\n",
              "    </tr>\n",
              "  </thead>\n",
              "  <tbody>\n",
              "    <tr>\n",
              "      <th>70</th>\n",
              "      <td>Porsche Cayenne 2009-2014 Turbo</td>\n",
              "      <td>Mumbai</td>\n",
              "      <td>2008</td>\n",
              "      <td>73000</td>\n",
              "      <td>Petrol</td>\n",
              "      <td>Automatic</td>\n",
              "      <td>First</td>\n",
              "      <td>8.50</td>\n",
              "      <td>4806.0</td>\n",
              "      <td>500.00</td>\n",
              "      <td>5.0</td>\n",
              "      <td>14.50</td>\n",
              "      <td>Porsche</td>\n",
              "    </tr>\n",
              "    <tr>\n",
              "      <th>152</th>\n",
              "      <td>Mercedes-Benz S Class 2005 2013 S 500</td>\n",
              "      <td>Kolkata</td>\n",
              "      <td>2010</td>\n",
              "      <td>35277</td>\n",
              "      <td>Petrol</td>\n",
              "      <td>Automatic</td>\n",
              "      <td>First</td>\n",
              "      <td>7.81</td>\n",
              "      <td>5461.0</td>\n",
              "      <td>362.90</td>\n",
              "      <td>5.0</td>\n",
              "      <td>30.00</td>\n",
              "      <td>Mercedes-Benz</td>\n",
              "    </tr>\n",
              "    <tr>\n",
              "      <th>326</th>\n",
              "      <td>BMW 6 Series 640d Gran Coupe</td>\n",
              "      <td>Mumbai</td>\n",
              "      <td>2011</td>\n",
              "      <td>30000</td>\n",
              "      <td>Diesel</td>\n",
              "      <td>Automatic</td>\n",
              "      <td>First</td>\n",
              "      <td>9.52</td>\n",
              "      <td>2993.0</td>\n",
              "      <td>313.00</td>\n",
              "      <td>4.0</td>\n",
              "      <td>49.00</td>\n",
              "      <td>BMW</td>\n",
              "    </tr>\n",
              "    <tr>\n",
              "      <th>557</th>\n",
              "      <td>Audi TT 2.0 TFSI</td>\n",
              "      <td>Delhi</td>\n",
              "      <td>2013</td>\n",
              "      <td>12100</td>\n",
              "      <td>Petrol</td>\n",
              "      <td>Automatic</td>\n",
              "      <td>First</td>\n",
              "      <td>9.90</td>\n",
              "      <td>1984.0</td>\n",
              "      <td>207.80</td>\n",
              "      <td>2.0</td>\n",
              "      <td>29.50</td>\n",
              "      <td>Audi</td>\n",
              "    </tr>\n",
              "    <tr>\n",
              "      <th>655</th>\n",
              "      <td>Jaguar XJ 2.0L Portfolio</td>\n",
              "      <td>Mumbai</td>\n",
              "      <td>2017</td>\n",
              "      <td>10501</td>\n",
              "      <td>Petrol</td>\n",
              "      <td>Automatic</td>\n",
              "      <td>First</td>\n",
              "      <td>9.43</td>\n",
              "      <td>1999.0</td>\n",
              "      <td>237.40</td>\n",
              "      <td>5.0</td>\n",
              "      <td>75.00</td>\n",
              "      <td>Jaguar</td>\n",
              "    </tr>\n",
              "    <tr>\n",
              "      <th>885</th>\n",
              "      <td>Maruti Grand Vitara AT</td>\n",
              "      <td>Chennai</td>\n",
              "      <td>2008</td>\n",
              "      <td>77000</td>\n",
              "      <td>Petrol</td>\n",
              "      <td>Automatic</td>\n",
              "      <td>Fourth &amp; Above</td>\n",
              "      <td>9.70</td>\n",
              "      <td>1995.0</td>\n",
              "      <td>163.50</td>\n",
              "      <td>5.0</td>\n",
              "      <td>5.50</td>\n",
              "      <td>Maruti</td>\n",
              "    </tr>\n",
              "    <tr>\n",
              "      <th>926</th>\n",
              "      <td>Porsche Cayman 2009-2012 S</td>\n",
              "      <td>Hyderabad</td>\n",
              "      <td>2010</td>\n",
              "      <td>10000</td>\n",
              "      <td>Petrol</td>\n",
              "      <td>Manual</td>\n",
              "      <td>First</td>\n",
              "      <td>9.00</td>\n",
              "      <td>3436.0</td>\n",
              "      <td>0.00</td>\n",
              "      <td>2.0</td>\n",
              "      <td>40.00</td>\n",
              "      <td>Porsche</td>\n",
              "    </tr>\n",
              "    <tr>\n",
              "      <th>1078</th>\n",
              "      <td>Porsche Boxster S tiptronic</td>\n",
              "      <td>Kolkata</td>\n",
              "      <td>2015</td>\n",
              "      <td>10512</td>\n",
              "      <td>Petrol</td>\n",
              "      <td>Automatic</td>\n",
              "      <td>First</td>\n",
              "      <td>8.60</td>\n",
              "      <td>2706.0</td>\n",
              "      <td>265.00</td>\n",
              "      <td>2.0</td>\n",
              "      <td>64.00</td>\n",
              "      <td>Porsche</td>\n",
              "    </tr>\n",
              "    <tr>\n",
              "      <th>1123</th>\n",
              "      <td>BMW 7 Series 2007-2012 740Li</td>\n",
              "      <td>Pune</td>\n",
              "      <td>2008</td>\n",
              "      <td>66000</td>\n",
              "      <td>Petrol</td>\n",
              "      <td>Automatic</td>\n",
              "      <td>Second</td>\n",
              "      <td>8.45</td>\n",
              "      <td>2979.0</td>\n",
              "      <td>321.00</td>\n",
              "      <td>5.0</td>\n",
              "      <td>10.75</td>\n",
              "      <td>BMW</td>\n",
              "    </tr>\n",
              "    <tr>\n",
              "      <th>1288</th>\n",
              "      <td>Audi TT 2.0 TFSI</td>\n",
              "      <td>Kochi</td>\n",
              "      <td>2014</td>\n",
              "      <td>14262</td>\n",
              "      <td>Petrol</td>\n",
              "      <td>Automatic</td>\n",
              "      <td>First</td>\n",
              "      <td>9.90</td>\n",
              "      <td>1984.0</td>\n",
              "      <td>207.80</td>\n",
              "      <td>2.0</td>\n",
              "      <td>27.35</td>\n",
              "      <td>Audi</td>\n",
              "    </tr>\n",
              "    <tr>\n",
              "      <th>1596</th>\n",
              "      <td>Audi Q7 4.2 FSI quattro</td>\n",
              "      <td>Delhi</td>\n",
              "      <td>2008</td>\n",
              "      <td>71000</td>\n",
              "      <td>Petrol</td>\n",
              "      <td>Automatic</td>\n",
              "      <td>First</td>\n",
              "      <td>8.30</td>\n",
              "      <td>4134.0</td>\n",
              "      <td>250.00</td>\n",
              "      <td>7.0</td>\n",
              "      <td>11.99</td>\n",
              "      <td>Audi</td>\n",
              "    </tr>\n",
              "    <tr>\n",
              "      <th>1762</th>\n",
              "      <td>BMW 3 Series 330i</td>\n",
              "      <td>Coimbatore</td>\n",
              "      <td>2011</td>\n",
              "      <td>75871</td>\n",
              "      <td>Petrol</td>\n",
              "      <td>Automatic</td>\n",
              "      <td>First</td>\n",
              "      <td>9.43</td>\n",
              "      <td>2996.0</td>\n",
              "      <td>254.00</td>\n",
              "      <td>5.0</td>\n",
              "      <td>14.12</td>\n",
              "      <td>BMW</td>\n",
              "    </tr>\n",
              "    <tr>\n",
              "      <th>2089</th>\n",
              "      <td>BMW 6 Series 640d Coupe</td>\n",
              "      <td>Mumbai</td>\n",
              "      <td>2013</td>\n",
              "      <td>30000</td>\n",
              "      <td>Diesel</td>\n",
              "      <td>Automatic</td>\n",
              "      <td>First</td>\n",
              "      <td>9.52</td>\n",
              "      <td>2993.0</td>\n",
              "      <td>313.00</td>\n",
              "      <td>4.0</td>\n",
              "      <td>45.00</td>\n",
              "      <td>BMW</td>\n",
              "    </tr>\n",
              "    <tr>\n",
              "      <th>2193</th>\n",
              "      <td>Volvo S60 D4 SUMMUM</td>\n",
              "      <td>Coimbatore</td>\n",
              "      <td>2016</td>\n",
              "      <td>42259</td>\n",
              "      <td>Diesel</td>\n",
              "      <td>Automatic</td>\n",
              "      <td>First</td>\n",
              "      <td>9.00</td>\n",
              "      <td>1984.0</td>\n",
              "      <td>181.00</td>\n",
              "      <td>5.0</td>\n",
              "      <td>24.36</td>\n",
              "      <td>Volvo</td>\n",
              "    </tr>\n",
              "    <tr>\n",
              "      <th>2305</th>\n",
              "      <td>Porsche Cayman 2009-2012 S tiptronic</td>\n",
              "      <td>Mumbai</td>\n",
              "      <td>2011</td>\n",
              "      <td>8000</td>\n",
              "      <td>Petrol</td>\n",
              "      <td>Automatic</td>\n",
              "      <td>First</td>\n",
              "      <td>9.00</td>\n",
              "      <td>3436.0</td>\n",
              "      <td>0.00</td>\n",
              "      <td>2.0</td>\n",
              "      <td>43.00</td>\n",
              "      <td>Porsche</td>\n",
              "    </tr>\n",
              "    <tr>\n",
              "      <th>2560</th>\n",
              "      <td>Mitsubishi Pajero 2.8 GLX Sports</td>\n",
              "      <td>Hyderabad</td>\n",
              "      <td>2008</td>\n",
              "      <td>85000</td>\n",
              "      <td>Diesel</td>\n",
              "      <td>Manual</td>\n",
              "      <td>First</td>\n",
              "      <td>9.50</td>\n",
              "      <td>2835.0</td>\n",
              "      <td>118.60</td>\n",
              "      <td>6.0</td>\n",
              "      <td>7.99</td>\n",
              "      <td>Mitsubishi</td>\n",
              "    </tr>\n",
              "    <tr>\n",
              "      <th>2973</th>\n",
              "      <td>Volvo S60 D4 KINETIC</td>\n",
              "      <td>Delhi</td>\n",
              "      <td>2014</td>\n",
              "      <td>48000</td>\n",
              "      <td>Diesel</td>\n",
              "      <td>Automatic</td>\n",
              "      <td>Second</td>\n",
              "      <td>9.00</td>\n",
              "      <td>1984.0</td>\n",
              "      <td>181.00</td>\n",
              "      <td>5.0</td>\n",
              "      <td>16.00</td>\n",
              "      <td>Volvo</td>\n",
              "    </tr>\n",
              "    <tr>\n",
              "      <th>2978</th>\n",
              "      <td>Porsche Panamera 2010 2013 4S</td>\n",
              "      <td>Coimbatore</td>\n",
              "      <td>2010</td>\n",
              "      <td>42400</td>\n",
              "      <td>Petrol</td>\n",
              "      <td>Automatic</td>\n",
              "      <td>Third</td>\n",
              "      <td>8.00</td>\n",
              "      <td>4806.0</td>\n",
              "      <td>394.30</td>\n",
              "      <td>4.0</td>\n",
              "      <td>42.91</td>\n",
              "      <td>Porsche</td>\n",
              "    </tr>\n",
              "    <tr>\n",
              "      <th>3220</th>\n",
              "      <td>Mercedes-Benz E-Class 280 Elegance</td>\n",
              "      <td>Jaipur</td>\n",
              "      <td>2008</td>\n",
              "      <td>62000</td>\n",
              "      <td>Petrol</td>\n",
              "      <td>Automatic</td>\n",
              "      <td>First</td>\n",
              "      <td>9.50</td>\n",
              "      <td>2997.0</td>\n",
              "      <td>231.10</td>\n",
              "      <td>5.0</td>\n",
              "      <td>7.00</td>\n",
              "      <td>Mercedes-Benz</td>\n",
              "    </tr>\n",
              "    <tr>\n",
              "      <th>3235</th>\n",
              "      <td>Volvo S60 D4 KINETIC</td>\n",
              "      <td>Ahmedabad</td>\n",
              "      <td>2015</td>\n",
              "      <td>34000</td>\n",
              "      <td>Diesel</td>\n",
              "      <td>Automatic</td>\n",
              "      <td>First</td>\n",
              "      <td>9.00</td>\n",
              "      <td>1984.0</td>\n",
              "      <td>181.00</td>\n",
              "      <td>5.0</td>\n",
              "      <td>20.00</td>\n",
              "      <td>Volvo</td>\n",
              "    </tr>\n",
              "    <tr>\n",
              "      <th>3328</th>\n",
              "      <td>Mercedes-Benz M-Class ML 320 CDI</td>\n",
              "      <td>Mumbai</td>\n",
              "      <td>2009</td>\n",
              "      <td>66000</td>\n",
              "      <td>Diesel</td>\n",
              "      <td>Automatic</td>\n",
              "      <td>Second</td>\n",
              "      <td>8.70</td>\n",
              "      <td>2987.0</td>\n",
              "      <td>224.34</td>\n",
              "      <td>5.0</td>\n",
              "      <td>10.75</td>\n",
              "      <td>Mercedes-Benz</td>\n",
              "    </tr>\n",
              "    <tr>\n",
              "      <th>3341</th>\n",
              "      <td>BMW 7 Series 2007-2012 750Li</td>\n",
              "      <td>Kochi</td>\n",
              "      <td>2010</td>\n",
              "      <td>50161</td>\n",
              "      <td>Petrol</td>\n",
              "      <td>Automatic</td>\n",
              "      <td>First</td>\n",
              "      <td>8.77</td>\n",
              "      <td>4395.0</td>\n",
              "      <td>402.00</td>\n",
              "      <td>5.0</td>\n",
              "      <td>25.93</td>\n",
              "      <td>BMW</td>\n",
              "    </tr>\n",
              "    <tr>\n",
              "      <th>3507</th>\n",
              "      <td>Mitsubishi Pajero 4X4 LHD</td>\n",
              "      <td>Bangalore</td>\n",
              "      <td>2012</td>\n",
              "      <td>155566</td>\n",
              "      <td>Diesel</td>\n",
              "      <td>Manual</td>\n",
              "      <td>Second</td>\n",
              "      <td>9.50</td>\n",
              "      <td>2835.0</td>\n",
              "      <td>118.60</td>\n",
              "      <td>6.0</td>\n",
              "      <td>9.15</td>\n",
              "      <td>Mitsubishi</td>\n",
              "    </tr>\n",
              "    <tr>\n",
              "      <th>3533</th>\n",
              "      <td>Nissan Teana 230jM</td>\n",
              "      <td>Mumbai</td>\n",
              "      <td>2008</td>\n",
              "      <td>86340</td>\n",
              "      <td>Petrol</td>\n",
              "      <td>Automatic</td>\n",
              "      <td>Second</td>\n",
              "      <td>9.10</td>\n",
              "      <td>2349.0</td>\n",
              "      <td>0.00</td>\n",
              "      <td>5.0</td>\n",
              "      <td>3.25</td>\n",
              "      <td>Nissan</td>\n",
              "    </tr>\n",
              "    <tr>\n",
              "      <th>3580</th>\n",
              "      <td>Mercedes-Benz CLS-Class 2006-2010 350 CDI</td>\n",
              "      <td>Hyderabad</td>\n",
              "      <td>2010</td>\n",
              "      <td>29000</td>\n",
              "      <td>Diesel</td>\n",
              "      <td>Automatic</td>\n",
              "      <td>First</td>\n",
              "      <td>9.90</td>\n",
              "      <td>3498.0</td>\n",
              "      <td>271.72</td>\n",
              "      <td>4.0</td>\n",
              "      <td>32.00</td>\n",
              "      <td>Mercedes-Benz</td>\n",
              "    </tr>\n",
              "    <tr>\n",
              "      <th>3724</th>\n",
              "      <td>Mercedes-Benz M-Class ML 320 CDI</td>\n",
              "      <td>Pune</td>\n",
              "      <td>2009</td>\n",
              "      <td>53000</td>\n",
              "      <td>Diesel</td>\n",
              "      <td>Automatic</td>\n",
              "      <td>First</td>\n",
              "      <td>8.70</td>\n",
              "      <td>2987.0</td>\n",
              "      <td>224.34</td>\n",
              "      <td>5.0</td>\n",
              "      <td>13.75</td>\n",
              "      <td>Mercedes-Benz</td>\n",
              "    </tr>\n",
              "    <tr>\n",
              "      <th>4001</th>\n",
              "      <td>Honda Accord 2.4 Inspire M/T</td>\n",
              "      <td>Mumbai</td>\n",
              "      <td>2012</td>\n",
              "      <td>42000</td>\n",
              "      <td>Petrol</td>\n",
              "      <td>Manual</td>\n",
              "      <td>First</td>\n",
              "      <td>9.80</td>\n",
              "      <td>2354.0</td>\n",
              "      <td>180.00</td>\n",
              "      <td>5.0</td>\n",
              "      <td>6.25</td>\n",
              "      <td>Honda</td>\n",
              "    </tr>\n",
              "    <tr>\n",
              "      <th>4199</th>\n",
              "      <td>Honda Accord 2.4 Inspire M/T</td>\n",
              "      <td>Pune</td>\n",
              "      <td>2009</td>\n",
              "      <td>60000</td>\n",
              "      <td>Petrol</td>\n",
              "      <td>Manual</td>\n",
              "      <td>Second</td>\n",
              "      <td>9.80</td>\n",
              "      <td>2354.0</td>\n",
              "      <td>180.00</td>\n",
              "      <td>5.0</td>\n",
              "      <td>3.50</td>\n",
              "      <td>Honda</td>\n",
              "    </tr>\n",
              "    <tr>\n",
              "      <th>4272</th>\n",
              "      <td>Honda Accord V6 AT</td>\n",
              "      <td>Chennai</td>\n",
              "      <td>2006</td>\n",
              "      <td>120000</td>\n",
              "      <td>Petrol</td>\n",
              "      <td>Automatic</td>\n",
              "      <td>Second</td>\n",
              "      <td>9.00</td>\n",
              "      <td>2997.0</td>\n",
              "      <td>218.00</td>\n",
              "      <td>5.0</td>\n",
              "      <td>2.65</td>\n",
              "      <td>Honda</td>\n",
              "    </tr>\n",
              "    <tr>\n",
              "      <th>4409</th>\n",
              "      <td>Skoda Superb 2.8 V6 AT</td>\n",
              "      <td>Kolkata</td>\n",
              "      <td>2005</td>\n",
              "      <td>13002</td>\n",
              "      <td>Petrol</td>\n",
              "      <td>Automatic</td>\n",
              "      <td>First</td>\n",
              "      <td>9.30</td>\n",
              "      <td>2771.0</td>\n",
              "      <td>193.10</td>\n",
              "      <td>5.0</td>\n",
              "      <td>3.25</td>\n",
              "      <td>Skoda</td>\n",
              "    </tr>\n",
              "    <tr>\n",
              "      <th>4519</th>\n",
              "      <td>Maruti Grand Vitara MT</td>\n",
              "      <td>Mumbai</td>\n",
              "      <td>2008</td>\n",
              "      <td>46810</td>\n",
              "      <td>Petrol</td>\n",
              "      <td>Manual</td>\n",
              "      <td>First</td>\n",
              "      <td>9.80</td>\n",
              "      <td>1995.0</td>\n",
              "      <td>163.50</td>\n",
              "      <td>5.0</td>\n",
              "      <td>3.95</td>\n",
              "      <td>Maruti</td>\n",
              "    </tr>\n",
              "    <tr>\n",
              "      <th>4627</th>\n",
              "      <td>BMW 6 Series 650i Coupe</td>\n",
              "      <td>Kochi</td>\n",
              "      <td>2010</td>\n",
              "      <td>65329</td>\n",
              "      <td>Petrol</td>\n",
              "      <td>Automatic</td>\n",
              "      <td>First</td>\n",
              "      <td>7.94</td>\n",
              "      <td>4395.0</td>\n",
              "      <td>450.00</td>\n",
              "      <td>4.0</td>\n",
              "      <td>20.72</td>\n",
              "      <td>BMW</td>\n",
              "    </tr>\n",
              "    <tr>\n",
              "      <th>4722</th>\n",
              "      <td>Mercedes-Benz SL-Class SL 500</td>\n",
              "      <td>Kolkata</td>\n",
              "      <td>2010</td>\n",
              "      <td>35000</td>\n",
              "      <td>Petrol</td>\n",
              "      <td>Automatic</td>\n",
              "      <td>First</td>\n",
              "      <td>8.10</td>\n",
              "      <td>5461.0</td>\n",
              "      <td>387.30</td>\n",
              "      <td>2.0</td>\n",
              "      <td>29.50</td>\n",
              "      <td>Mercedes-Benz</td>\n",
              "    </tr>\n",
              "    <tr>\n",
              "      <th>4821</th>\n",
              "      <td>BMW 6 Series 630i Coupe</td>\n",
              "      <td>Mumbai</td>\n",
              "      <td>2011</td>\n",
              "      <td>5900</td>\n",
              "      <td>Petrol</td>\n",
              "      <td>Automatic</td>\n",
              "      <td>First</td>\n",
              "      <td>7.94</td>\n",
              "      <td>4395.0</td>\n",
              "      <td>450.00</td>\n",
              "      <td>4.0</td>\n",
              "      <td>47.50</td>\n",
              "      <td>BMW</td>\n",
              "    </tr>\n",
              "    <tr>\n",
              "      <th>4959</th>\n",
              "      <td>Skoda Superb 2.8 V6 AT</td>\n",
              "      <td>Kolkata</td>\n",
              "      <td>2005</td>\n",
              "      <td>13000</td>\n",
              "      <td>Petrol</td>\n",
              "      <td>Automatic</td>\n",
              "      <td>First</td>\n",
              "      <td>9.30</td>\n",
              "      <td>2771.0</td>\n",
              "      <td>193.10</td>\n",
              "      <td>5.0</td>\n",
              "      <td>3.25</td>\n",
              "      <td>Skoda</td>\n",
              "    </tr>\n",
              "    <tr>\n",
              "      <th>5039</th>\n",
              "      <td>Audi Q5 2008-2012 2.0 TFSI Quattro</td>\n",
              "      <td>Ahmedabad</td>\n",
              "      <td>2009</td>\n",
              "      <td>99100</td>\n",
              "      <td>Petrol</td>\n",
              "      <td>Automatic</td>\n",
              "      <td>Second</td>\n",
              "      <td>9.74</td>\n",
              "      <td>1984.0</td>\n",
              "      <td>208.00</td>\n",
              "      <td>5.0</td>\n",
              "      <td>10.00</td>\n",
              "      <td>Audi</td>\n",
              "    </tr>\n",
              "    <tr>\n",
              "      <th>5218</th>\n",
              "      <td>BMW 3 Series 330d Convertible</td>\n",
              "      <td>Mumbai</td>\n",
              "      <td>2013</td>\n",
              "      <td>49000</td>\n",
              "      <td>Diesel</td>\n",
              "      <td>Automatic</td>\n",
              "      <td>First</td>\n",
              "      <td>8.20</td>\n",
              "      <td>2993.0</td>\n",
              "      <td>245.00</td>\n",
              "      <td>4.0</td>\n",
              "      <td>29.00</td>\n",
              "      <td>BMW</td>\n",
              "    </tr>\n",
              "    <tr>\n",
              "      <th>5521</th>\n",
              "      <td>Bentley Continental Flying Spur</td>\n",
              "      <td>Hyderabad</td>\n",
              "      <td>2006</td>\n",
              "      <td>48000</td>\n",
              "      <td>Petrol</td>\n",
              "      <td>Automatic</td>\n",
              "      <td>First</td>\n",
              "      <td>8.60</td>\n",
              "      <td>5998.0</td>\n",
              "      <td>552.00</td>\n",
              "      <td>4.0</td>\n",
              "      <td>59.00</td>\n",
              "      <td>Bentley</td>\n",
              "    </tr>\n",
              "    <tr>\n",
              "      <th>5603</th>\n",
              "      <td>Porsche Panamera 2010 2013 Diesel</td>\n",
              "      <td>Delhi</td>\n",
              "      <td>2013</td>\n",
              "      <td>36400</td>\n",
              "      <td>Diesel</td>\n",
              "      <td>Automatic</td>\n",
              "      <td>First</td>\n",
              "      <td>7.50</td>\n",
              "      <td>4806.0</td>\n",
              "      <td>394.30</td>\n",
              "      <td>4.0</td>\n",
              "      <td>72.00</td>\n",
              "      <td>Porsche</td>\n",
              "    </tr>\n",
              "    <tr>\n",
              "      <th>5608</th>\n",
              "      <td>Honda Accord 2.4 Inspire M/T</td>\n",
              "      <td>Pune</td>\n",
              "      <td>2009</td>\n",
              "      <td>79000</td>\n",
              "      <td>Petrol</td>\n",
              "      <td>Manual</td>\n",
              "      <td>Third</td>\n",
              "      <td>9.80</td>\n",
              "      <td>2354.0</td>\n",
              "      <td>180.00</td>\n",
              "      <td>5.0</td>\n",
              "      <td>3.10</td>\n",
              "      <td>Honda</td>\n",
              "    </tr>\n",
              "    <tr>\n",
              "      <th>5613</th>\n",
              "      <td>Audi Q5 2008-2012 2.0 TFSI Quattro</td>\n",
              "      <td>Kochi</td>\n",
              "      <td>2011</td>\n",
              "      <td>59967</td>\n",
              "      <td>Petrol</td>\n",
              "      <td>Automatic</td>\n",
              "      <td>First</td>\n",
              "      <td>9.74</td>\n",
              "      <td>1984.0</td>\n",
              "      <td>208.00</td>\n",
              "      <td>5.0</td>\n",
              "      <td>18.00</td>\n",
              "      <td>Audi</td>\n",
              "    </tr>\n",
              "    <tr>\n",
              "      <th>5781</th>\n",
              "      <td>Lamborghini Gallardo Coupe</td>\n",
              "      <td>Delhi</td>\n",
              "      <td>2011</td>\n",
              "      <td>6500</td>\n",
              "      <td>Petrol</td>\n",
              "      <td>Automatic</td>\n",
              "      <td>Third</td>\n",
              "      <td>6.40</td>\n",
              "      <td>5204.0</td>\n",
              "      <td>560.00</td>\n",
              "      <td>2.0</td>\n",
              "      <td>120.00</td>\n",
              "      <td>Lamborghini</td>\n",
              "    </tr>\n",
              "    <tr>\n",
              "      <th>5868</th>\n",
              "      <td>BMW 3 Series 330d Convertible</td>\n",
              "      <td>Kochi</td>\n",
              "      <td>2014</td>\n",
              "      <td>51240</td>\n",
              "      <td>Diesel</td>\n",
              "      <td>Automatic</td>\n",
              "      <td>First</td>\n",
              "      <td>8.20</td>\n",
              "      <td>2993.0</td>\n",
              "      <td>245.00</td>\n",
              "      <td>4.0</td>\n",
              "      <td>29.52</td>\n",
              "      <td>BMW</td>\n",
              "    </tr>\n",
              "    <tr>\n",
              "      <th>6006</th>\n",
              "      <td>Mercedes-Benz M-Class ML 320 CDI</td>\n",
              "      <td>Mumbai</td>\n",
              "      <td>2009</td>\n",
              "      <td>102002</td>\n",
              "      <td>Diesel</td>\n",
              "      <td>Automatic</td>\n",
              "      <td>First</td>\n",
              "      <td>8.70</td>\n",
              "      <td>2987.0</td>\n",
              "      <td>224.34</td>\n",
              "      <td>5.0</td>\n",
              "      <td>10.75</td>\n",
              "      <td>Mercedes-Benz</td>\n",
              "    </tr>\n",
              "  </tbody>\n",
              "</table>\n",
              "</div>"
            ],
            "text/plain": [
              "                                           Name    Location  Year  \\\n",
              "70              Porsche Cayenne 2009-2014 Turbo      Mumbai  2008   \n",
              "152       Mercedes-Benz S Class 2005 2013 S 500     Kolkata  2010   \n",
              "326                BMW 6 Series 640d Gran Coupe      Mumbai  2011   \n",
              "557                            Audi TT 2.0 TFSI       Delhi  2013   \n",
              "655                    Jaguar XJ 2.0L Portfolio      Mumbai  2017   \n",
              "885                      Maruti Grand Vitara AT     Chennai  2008   \n",
              "926                  Porsche Cayman 2009-2012 S   Hyderabad  2010   \n",
              "1078                Porsche Boxster S tiptronic     Kolkata  2015   \n",
              "1123               BMW 7 Series 2007-2012 740Li        Pune  2008   \n",
              "1288                           Audi TT 2.0 TFSI       Kochi  2014   \n",
              "1596                    Audi Q7 4.2 FSI quattro       Delhi  2008   \n",
              "1762                          BMW 3 Series 330i  Coimbatore  2011   \n",
              "2089                    BMW 6 Series 640d Coupe      Mumbai  2013   \n",
              "2193                        Volvo S60 D4 SUMMUM  Coimbatore  2016   \n",
              "2305       Porsche Cayman 2009-2012 S tiptronic      Mumbai  2011   \n",
              "2560           Mitsubishi Pajero 2.8 GLX Sports   Hyderabad  2008   \n",
              "2973                       Volvo S60 D4 KINETIC       Delhi  2014   \n",
              "2978              Porsche Panamera 2010 2013 4S  Coimbatore  2010   \n",
              "3220         Mercedes-Benz E-Class 280 Elegance      Jaipur  2008   \n",
              "3235                       Volvo S60 D4 KINETIC   Ahmedabad  2015   \n",
              "3328           Mercedes-Benz M-Class ML 320 CDI      Mumbai  2009   \n",
              "3341               BMW 7 Series 2007-2012 750Li       Kochi  2010   \n",
              "3507                  Mitsubishi Pajero 4X4 LHD   Bangalore  2012   \n",
              "3533                         Nissan Teana 230jM      Mumbai  2008   \n",
              "3580  Mercedes-Benz CLS-Class 2006-2010 350 CDI   Hyderabad  2010   \n",
              "3724           Mercedes-Benz M-Class ML 320 CDI        Pune  2009   \n",
              "4001               Honda Accord 2.4 Inspire M/T      Mumbai  2012   \n",
              "4199               Honda Accord 2.4 Inspire M/T        Pune  2009   \n",
              "4272                         Honda Accord V6 AT     Chennai  2006   \n",
              "4409                     Skoda Superb 2.8 V6 AT     Kolkata  2005   \n",
              "4519                     Maruti Grand Vitara MT      Mumbai  2008   \n",
              "4627                    BMW 6 Series 650i Coupe       Kochi  2010   \n",
              "4722              Mercedes-Benz SL-Class SL 500     Kolkata  2010   \n",
              "4821                    BMW 6 Series 630i Coupe      Mumbai  2011   \n",
              "4959                     Skoda Superb 2.8 V6 AT     Kolkata  2005   \n",
              "5039         Audi Q5 2008-2012 2.0 TFSI Quattro   Ahmedabad  2009   \n",
              "5218              BMW 3 Series 330d Convertible      Mumbai  2013   \n",
              "5521            Bentley Continental Flying Spur   Hyderabad  2006   \n",
              "5603          Porsche Panamera 2010 2013 Diesel       Delhi  2013   \n",
              "5608               Honda Accord 2.4 Inspire M/T        Pune  2009   \n",
              "5613         Audi Q5 2008-2012 2.0 TFSI Quattro       Kochi  2011   \n",
              "5781                 Lamborghini Gallardo Coupe       Delhi  2011   \n",
              "5868              BMW 3 Series 330d Convertible       Kochi  2014   \n",
              "6006           Mercedes-Benz M-Class ML 320 CDI      Mumbai  2009   \n",
              "\n",
              "      Kilometers_Driven Fuel_Type Transmission      Owner_Type  Mileage  \\\n",
              "70                73000    Petrol    Automatic           First     8.50   \n",
              "152               35277    Petrol    Automatic           First     7.81   \n",
              "326               30000    Diesel    Automatic           First     9.52   \n",
              "557               12100    Petrol    Automatic           First     9.90   \n",
              "655               10501    Petrol    Automatic           First     9.43   \n",
              "885               77000    Petrol    Automatic  Fourth & Above     9.70   \n",
              "926               10000    Petrol       Manual           First     9.00   \n",
              "1078              10512    Petrol    Automatic           First     8.60   \n",
              "1123              66000    Petrol    Automatic          Second     8.45   \n",
              "1288              14262    Petrol    Automatic           First     9.90   \n",
              "1596              71000    Petrol    Automatic           First     8.30   \n",
              "1762              75871    Petrol    Automatic           First     9.43   \n",
              "2089              30000    Diesel    Automatic           First     9.52   \n",
              "2193              42259    Diesel    Automatic           First     9.00   \n",
              "2305               8000    Petrol    Automatic           First     9.00   \n",
              "2560              85000    Diesel       Manual           First     9.50   \n",
              "2973              48000    Diesel    Automatic          Second     9.00   \n",
              "2978              42400    Petrol    Automatic           Third     8.00   \n",
              "3220              62000    Petrol    Automatic           First     9.50   \n",
              "3235              34000    Diesel    Automatic           First     9.00   \n",
              "3328              66000    Diesel    Automatic          Second     8.70   \n",
              "3341              50161    Petrol    Automatic           First     8.77   \n",
              "3507             155566    Diesel       Manual          Second     9.50   \n",
              "3533              86340    Petrol    Automatic          Second     9.10   \n",
              "3580              29000    Diesel    Automatic           First     9.90   \n",
              "3724              53000    Diesel    Automatic           First     8.70   \n",
              "4001              42000    Petrol       Manual           First     9.80   \n",
              "4199              60000    Petrol       Manual          Second     9.80   \n",
              "4272             120000    Petrol    Automatic          Second     9.00   \n",
              "4409              13002    Petrol    Automatic           First     9.30   \n",
              "4519              46810    Petrol       Manual           First     9.80   \n",
              "4627              65329    Petrol    Automatic           First     7.94   \n",
              "4722              35000    Petrol    Automatic           First     8.10   \n",
              "4821               5900    Petrol    Automatic           First     7.94   \n",
              "4959              13000    Petrol    Automatic           First     9.30   \n",
              "5039              99100    Petrol    Automatic          Second     9.74   \n",
              "5218              49000    Diesel    Automatic           First     8.20   \n",
              "5521              48000    Petrol    Automatic           First     8.60   \n",
              "5603              36400    Diesel    Automatic           First     7.50   \n",
              "5608              79000    Petrol       Manual           Third     9.80   \n",
              "5613              59967    Petrol    Automatic           First     9.74   \n",
              "5781               6500    Petrol    Automatic           Third     6.40   \n",
              "5868              51240    Diesel    Automatic           First     8.20   \n",
              "6006             102002    Diesel    Automatic           First     8.70   \n",
              "\n",
              "      Engine   Power  Seats   Price     Brand_Name  \n",
              "70    4806.0  500.00    5.0   14.50        Porsche  \n",
              "152   5461.0  362.90    5.0   30.00  Mercedes-Benz  \n",
              "326   2993.0  313.00    4.0   49.00            BMW  \n",
              "557   1984.0  207.80    2.0   29.50           Audi  \n",
              "655   1999.0  237.40    5.0   75.00         Jaguar  \n",
              "885   1995.0  163.50    5.0    5.50         Maruti  \n",
              "926   3436.0    0.00    2.0   40.00        Porsche  \n",
              "1078  2706.0  265.00    2.0   64.00        Porsche  \n",
              "1123  2979.0  321.00    5.0   10.75            BMW  \n",
              "1288  1984.0  207.80    2.0   27.35           Audi  \n",
              "1596  4134.0  250.00    7.0   11.99           Audi  \n",
              "1762  2996.0  254.00    5.0   14.12            BMW  \n",
              "2089  2993.0  313.00    4.0   45.00            BMW  \n",
              "2193  1984.0  181.00    5.0   24.36          Volvo  \n",
              "2305  3436.0    0.00    2.0   43.00        Porsche  \n",
              "2560  2835.0  118.60    6.0    7.99     Mitsubishi  \n",
              "2973  1984.0  181.00    5.0   16.00          Volvo  \n",
              "2978  4806.0  394.30    4.0   42.91        Porsche  \n",
              "3220  2997.0  231.10    5.0    7.00  Mercedes-Benz  \n",
              "3235  1984.0  181.00    5.0   20.00          Volvo  \n",
              "3328  2987.0  224.34    5.0   10.75  Mercedes-Benz  \n",
              "3341  4395.0  402.00    5.0   25.93            BMW  \n",
              "3507  2835.0  118.60    6.0    9.15     Mitsubishi  \n",
              "3533  2349.0    0.00    5.0    3.25         Nissan  \n",
              "3580  3498.0  271.72    4.0   32.00  Mercedes-Benz  \n",
              "3724  2987.0  224.34    5.0   13.75  Mercedes-Benz  \n",
              "4001  2354.0  180.00    5.0    6.25          Honda  \n",
              "4199  2354.0  180.00    5.0    3.50          Honda  \n",
              "4272  2997.0  218.00    5.0    2.65          Honda  \n",
              "4409  2771.0  193.10    5.0    3.25          Skoda  \n",
              "4519  1995.0  163.50    5.0    3.95         Maruti  \n",
              "4627  4395.0  450.00    4.0   20.72            BMW  \n",
              "4722  5461.0  387.30    2.0   29.50  Mercedes-Benz  \n",
              "4821  4395.0  450.00    4.0   47.50            BMW  \n",
              "4959  2771.0  193.10    5.0    3.25          Skoda  \n",
              "5039  1984.0  208.00    5.0   10.00           Audi  \n",
              "5218  2993.0  245.00    4.0   29.00            BMW  \n",
              "5521  5998.0  552.00    4.0   59.00        Bentley  \n",
              "5603  4806.0  394.30    4.0   72.00        Porsche  \n",
              "5608  2354.0  180.00    5.0    3.10          Honda  \n",
              "5613  1984.0  208.00    5.0   18.00           Audi  \n",
              "5781  5204.0  560.00    2.0  120.00    Lamborghini  \n",
              "5868  2993.0  245.00    4.0   29.52            BMW  \n",
              "6006  2987.0  224.34    5.0   10.75  Mercedes-Benz  "
            ]
          },
          "metadata": {
            "tags": []
          },
          "execution_count": 33
        }
      ]
    },
    {
      "cell_type": "code",
      "metadata": {
        "colab": {
          "base_uri": "https://localhost:8080/",
          "height": 34
        },
        "id": "KjHcOWmD-su3",
        "outputId": "0ffaa8ea-3bf8-49d0-836d-337755906dcc"
      },
      "source": [
        "data['Mileage'].min()"
      ],
      "execution_count": null,
      "outputs": [
        {
          "output_type": "execute_result",
          "data": {
            "text/plain": [
              "6.4"
            ]
          },
          "metadata": {
            "tags": []
          },
          "execution_count": 34
        }
      ]
    },
    {
      "cell_type": "code",
      "metadata": {
        "colab": {
          "base_uri": "https://localhost:8080/",
          "height": 80
        },
        "id": "hTExm1cC-su5",
        "outputId": "85f79699-9678-45be-c7a9-c82971f6977e"
      },
      "source": [
        "data.loc[data['Mileage'].values == 6.4]"
      ],
      "execution_count": null,
      "outputs": [
        {
          "output_type": "execute_result",
          "data": {
            "text/html": [
              "<div>\n",
              "<style scoped>\n",
              "    .dataframe tbody tr th:only-of-type {\n",
              "        vertical-align: middle;\n",
              "    }\n",
              "\n",
              "    .dataframe tbody tr th {\n",
              "        vertical-align: top;\n",
              "    }\n",
              "\n",
              "    .dataframe thead th {\n",
              "        text-align: right;\n",
              "    }\n",
              "</style>\n",
              "<table border=\"1\" class=\"dataframe\">\n",
              "  <thead>\n",
              "    <tr style=\"text-align: right;\">\n",
              "      <th></th>\n",
              "      <th>Name</th>\n",
              "      <th>Location</th>\n",
              "      <th>Year</th>\n",
              "      <th>Kilometers_Driven</th>\n",
              "      <th>Fuel_Type</th>\n",
              "      <th>Transmission</th>\n",
              "      <th>Owner_Type</th>\n",
              "      <th>Mileage</th>\n",
              "      <th>Engine</th>\n",
              "      <th>Power</th>\n",
              "      <th>Seats</th>\n",
              "      <th>Price</th>\n",
              "      <th>Brand_Name</th>\n",
              "    </tr>\n",
              "  </thead>\n",
              "  <tbody>\n",
              "    <tr>\n",
              "      <th>5781</th>\n",
              "      <td>Lamborghini Gallardo Coupe</td>\n",
              "      <td>Delhi</td>\n",
              "      <td>2011</td>\n",
              "      <td>6500</td>\n",
              "      <td>Petrol</td>\n",
              "      <td>Automatic</td>\n",
              "      <td>Third</td>\n",
              "      <td>6.4</td>\n",
              "      <td>5204.0</td>\n",
              "      <td>560.0</td>\n",
              "      <td>2.0</td>\n",
              "      <td>120.0</td>\n",
              "      <td>Lamborghini</td>\n",
              "    </tr>\n",
              "  </tbody>\n",
              "</table>\n",
              "</div>"
            ],
            "text/plain": [
              "                            Name Location  Year  Kilometers_Driven Fuel_Type  \\\n",
              "5781  Lamborghini Gallardo Coupe    Delhi  2011               6500    Petrol   \n",
              "\n",
              "     Transmission Owner_Type  Mileage  Engine  Power  Seats  Price  \\\n",
              "5781    Automatic      Third      6.4  5204.0  560.0    2.0  120.0   \n",
              "\n",
              "       Brand_Name  \n",
              "5781  Lamborghini  "
            ]
          },
          "metadata": {
            "tags": []
          },
          "execution_count": 35
        }
      ]
    },
    {
      "cell_type": "code",
      "metadata": {
        "id": "dDdKHTkXe6ZN",
        "outputId": "e1fe431a-daf1-4bbf-f8d4-866830dc73d7"
      },
      "source": [
        "data.groupby(by=[\"Fuel_Type\"])['Mileage'].mean()"
      ],
      "execution_count": null,
      "outputs": [
        {
          "output_type": "execute_result",
          "data": {
            "text/plain": [
              "Fuel_Type\n",
              "CNG       25.418036\n",
              "Diesel    18.778682\n",
              "LPG       19.385000\n",
              "Petrol    17.679168\n",
              "Name: Mileage, dtype: float64"
            ]
          },
          "metadata": {
            "tags": []
          },
          "execution_count": 60
        }
      ]
    },
    {
      "cell_type": "markdown",
      "metadata": {
        "id": "wp8ZjSDo-su-"
      },
      "source": [
        "# 10. Faktor-faktor yang Mempengaruhi Harga Mobil Bekas di India"
      ]
    },
    {
      "cell_type": "code",
      "metadata": {
        "colab": {
          "base_uri": "https://localhost:8080/",
          "height": 266
        },
        "id": "sprsKWK_-su-",
        "outputId": "c110101f-c368-47e4-aa45-d5ad304b812c"
      },
      "source": [
        "data.corr()"
      ],
      "execution_count": null,
      "outputs": [
        {
          "output_type": "execute_result",
          "data": {
            "text/html": [
              "<div>\n",
              "<style scoped>\n",
              "    .dataframe tbody tr th:only-of-type {\n",
              "        vertical-align: middle;\n",
              "    }\n",
              "\n",
              "    .dataframe tbody tr th {\n",
              "        vertical-align: top;\n",
              "    }\n",
              "\n",
              "    .dataframe thead th {\n",
              "        text-align: right;\n",
              "    }\n",
              "</style>\n",
              "<table border=\"1\" class=\"dataframe\">\n",
              "  <thead>\n",
              "    <tr style=\"text-align: right;\">\n",
              "      <th></th>\n",
              "      <th>Year</th>\n",
              "      <th>Kilometers_Driven</th>\n",
              "      <th>Mileage</th>\n",
              "      <th>Engine</th>\n",
              "      <th>Power</th>\n",
              "      <th>Seats</th>\n",
              "      <th>Price</th>\n",
              "    </tr>\n",
              "  </thead>\n",
              "  <tbody>\n",
              "    <tr>\n",
              "      <th>Year</th>\n",
              "      <td>1.000000</td>\n",
              "      <td>-0.170561</td>\n",
              "      <td>0.296718</td>\n",
              "      <td>-0.059206</td>\n",
              "      <td>0.049545</td>\n",
              "      <td>0.014011</td>\n",
              "      <td>0.302463</td>\n",
              "    </tr>\n",
              "    <tr>\n",
              "      <th>Kilometers_Driven</th>\n",
              "      <td>-0.170561</td>\n",
              "      <td>1.000000</td>\n",
              "      <td>-0.064283</td>\n",
              "      <td>0.092561</td>\n",
              "      <td>0.028730</td>\n",
              "      <td>0.081654</td>\n",
              "      <td>-0.009048</td>\n",
              "    </tr>\n",
              "    <tr>\n",
              "      <th>Mileage</th>\n",
              "      <td>0.296718</td>\n",
              "      <td>-0.064283</td>\n",
              "      <td>1.000000</td>\n",
              "      <td>-0.646476</td>\n",
              "      <td>-0.528542</td>\n",
              "      <td>-0.344770</td>\n",
              "      <td>-0.333263</td>\n",
              "    </tr>\n",
              "    <tr>\n",
              "      <th>Engine</th>\n",
              "      <td>-0.059206</td>\n",
              "      <td>0.092561</td>\n",
              "      <td>-0.646476</td>\n",
              "      <td>1.000000</td>\n",
              "      <td>0.846096</td>\n",
              "      <td>0.396462</td>\n",
              "      <td>0.658365</td>\n",
              "    </tr>\n",
              "    <tr>\n",
              "      <th>Power</th>\n",
              "      <td>0.049545</td>\n",
              "      <td>0.028730</td>\n",
              "      <td>-0.528542</td>\n",
              "      <td>0.846096</td>\n",
              "      <td>1.000000</td>\n",
              "      <td>0.111277</td>\n",
              "      <td>0.763067</td>\n",
              "    </tr>\n",
              "    <tr>\n",
              "      <th>Seats</th>\n",
              "      <td>0.014011</td>\n",
              "      <td>0.081654</td>\n",
              "      <td>-0.344770</td>\n",
              "      <td>0.396462</td>\n",
              "      <td>0.111277</td>\n",
              "      <td>1.000000</td>\n",
              "      <td>0.054557</td>\n",
              "    </tr>\n",
              "    <tr>\n",
              "      <th>Price</th>\n",
              "      <td>0.302463</td>\n",
              "      <td>-0.009048</td>\n",
              "      <td>-0.333263</td>\n",
              "      <td>0.658365</td>\n",
              "      <td>0.763067</td>\n",
              "      <td>0.054557</td>\n",
              "      <td>1.000000</td>\n",
              "    </tr>\n",
              "  </tbody>\n",
              "</table>\n",
              "</div>"
            ],
            "text/plain": [
              "                       Year  Kilometers_Driven   Mileage    Engine     Power  \\\n",
              "Year               1.000000          -0.170561  0.296718 -0.059206  0.049545   \n",
              "Kilometers_Driven -0.170561           1.000000 -0.064283  0.092561  0.028730   \n",
              "Mileage            0.296718          -0.064283  1.000000 -0.646476 -0.528542   \n",
              "Engine            -0.059206           0.092561 -0.646476  1.000000  0.846096   \n",
              "Power              0.049545           0.028730 -0.528542  0.846096  1.000000   \n",
              "Seats              0.014011           0.081654 -0.344770  0.396462  0.111277   \n",
              "Price              0.302463          -0.009048 -0.333263  0.658365  0.763067   \n",
              "\n",
              "                      Seats     Price  \n",
              "Year               0.014011  0.302463  \n",
              "Kilometers_Driven  0.081654 -0.009048  \n",
              "Mileage           -0.344770 -0.333263  \n",
              "Engine             0.396462  0.658365  \n",
              "Power              0.111277  0.763067  \n",
              "Seats              1.000000  0.054557  \n",
              "Price              0.054557  1.000000  "
            ]
          },
          "metadata": {
            "tags": []
          },
          "execution_count": 36
        }
      ]
    },
    {
      "cell_type": "code",
      "metadata": {
        "colab": {
          "base_uri": "https://localhost:8080/",
          "height": 351
        },
        "id": "0MvJhpAX-svA",
        "outputId": "2c624688-eb2e-4516-d47f-90895dc37c47"
      },
      "source": [
        "plt.figure(figsize=(13,5))\n",
        "sns.regplot(x='Power', y='Price', data=data)"
      ],
      "execution_count": null,
      "outputs": [
        {
          "output_type": "execute_result",
          "data": {
            "text/plain": [
              "<matplotlib.axes._subplots.AxesSubplot at 0x1221bc7f0>"
            ]
          },
          "metadata": {
            "tags": []
          },
          "execution_count": 37
        },
        {
          "output_type": "display_data",
          "data": {
            "image/png": "[encoded data removed]",
            "text/plain": [
              "<Figure size 936x360 with 1 Axes>"
            ]
          },
          "metadata": {
            "tags": [],
            "needs_background": "light"
          }
        }
      ]
    },
    {
      "cell_type": "code",
      "metadata": {
        "id": "qbK7aJeIe6ZP",
        "outputId": "cd0f3309-d0be-4780-991b-c1c4220960ca"
      },
      "source": [
        "plt.figure(figsize=(13,5))\n",
        "sns.regplot(x='Price', y='Kilometers_Driven', data=outlier)"
      ],
      "execution_count": null,
      "outputs": [
        {
          "output_type": "execute_result",
          "data": {
            "text/plain": [
              "<matplotlib.axes._subplots.AxesSubplot at 0x1229890a0>"
            ]
          },
          "metadata": {
            "tags": []
          },
          "execution_count": 38
        },
        {
          "output_type": "display_data",
          "data": {
            "image/png": "[encoded data removed]",
            "text/plain": [
              "<Figure size 936x360 with 1 Axes>"
            ]
          },
          "metadata": {
            "tags": [],
            "needs_background": "light"
          }
        }
      ]
    },
    {
      "cell_type": "code",
      "metadata": {
        "colab": {
          "base_uri": "https://localhost:8080/",
          "height": 351
        },
        "id": "URlNNTMSKqbq",
        "outputId": "21fab766-ec33-49b0-fe77-2f1177cd19d3"
      },
      "source": [
        "plt.figure(figsize=(13,5))\n",
        "sns.regplot(x='Mileage', y='Price', data=data)"
      ],
      "execution_count": null,
      "outputs": [
        {
          "output_type": "execute_result",
          "data": {
            "text/plain": [
              "<matplotlib.axes._subplots.AxesSubplot at 0x127154a30>"
            ]
          },
          "metadata": {
            "tags": []
          },
          "execution_count": 39
        },
        {
          "output_type": "display_data",
          "data": {
            "image/png": "[encoded data removed]",
            "text/plain": [
              "<Figure size 936x360 with 1 Axes>"
            ]
          },
          "metadata": {
            "tags": [],
            "needs_background": "light"
          }
        }
      ]
    },
    {
      "cell_type": "code",
      "metadata": {
        "colab": {
          "base_uri": "https://localhost:8080/",
          "height": 351
        },
        "id": "4SDdMEow-svF",
        "outputId": "531d7966-1b9f-48db-860e-a1d855406e6b"
      },
      "source": [
        "plt.figure(figsize=(13,5))\n",
        "sns.regplot(x='Engine', y='Price', data=data)"
      ],
      "execution_count": null,
      "outputs": [
        {
          "output_type": "execute_result",
          "data": {
            "text/plain": [
              "<matplotlib.axes._subplots.AxesSubplot at 0x1227e0f10>"
            ]
          },
          "metadata": {
            "tags": []
          },
          "execution_count": 40
        },
        {
          "output_type": "display_data",
          "data": {
            "image/png": "[encoded data removed]",
            "text/plain": [
              "<Figure size 936x360 with 1 Axes>"
            ]
          },
          "metadata": {
            "tags": [],
            "needs_background": "light"
          }
        }
      ]
    },
    {
      "cell_type": "code",
      "metadata": {
        "colab": {
          "base_uri": "https://localhost:8080/",
          "height": 337
        },
        "id": "mLIYdz3V-svH",
        "outputId": "a6962a93-fe84-4f8c-ff0f-c61508afc679"
      },
      "source": [
        "plt.figure(figsize=(13,5))\n",
        "plt.bar(data['Year'], data['Price'] )"
      ],
      "execution_count": null,
      "outputs": [
        {
          "output_type": "execute_result",
          "data": {
            "text/plain": [
              "<BarContainer object of 5949 artists>"
            ]
          },
          "metadata": {
            "tags": []
          },
          "execution_count": 62
        },
        {
          "output_type": "display_data",
          "data": {
            "image/png": "[encoded data removed]",
            "text/plain": [
              "<Figure size 936x360 with 1 Axes>"
            ]
          },
          "metadata": {
            "tags": [],
            "needs_background": "light"
          }
        }
      ]
    },
    {
      "cell_type": "code",
      "metadata": {
        "colab": {
          "base_uri": "https://localhost:8080/",
          "height": 337
        },
        "id": "Msz_gwjXIkvb",
        "outputId": "71df7b08-6cdd-42db-d4d6-f3df80f812d8"
      },
      "source": [
        "plt.figure(figsize=(13,5))\n",
        "plt.bar(data['Seats'], data['Price'] )"
      ],
      "execution_count": null,
      "outputs": [
        {
          "output_type": "execute_result",
          "data": {
            "text/plain": [
              "<BarContainer object of 5949 artists>"
            ]
          },
          "metadata": {
            "tags": []
          },
          "execution_count": 42
        },
        {
          "output_type": "display_data",
          "data": {
            "image/png": "[encoded data removed]",
            "text/plain": [
              "<Figure size 936x360 with 1 Axes>"
            ]
          },
          "metadata": {
            "tags": [],
            "needs_background": "light"
          }
        }
      ]
    },
    {
      "cell_type": "code",
      "metadata": {
        "colab": {
          "base_uri": "https://localhost:8080/",
          "height": 351
        },
        "id": "yten32DS-svK",
        "outputId": "3d9091a4-39a3-41b6-84ef-323060cde963"
      },
      "source": [
        "plt.figure(figsize=(13,5))\n",
        "sns.boxplot(x='Transmission', y='Price', data=data)"
      ],
      "execution_count": null,
      "outputs": [
        {
          "output_type": "execute_result",
          "data": {
            "text/plain": [
              "<matplotlib.axes._subplots.AxesSubplot at 0x12b19ab80>"
            ]
          },
          "metadata": {
            "tags": []
          },
          "execution_count": 43
        },
        {
          "output_type": "display_data",
          "data": {
            "image/png": "[encoded data removed]",
            "text/plain": [
              "<Figure size 936x360 with 1 Axes>"
            ]
          },
          "metadata": {
            "tags": [],
            "needs_background": "light"
          }
        }
      ]
    },
    {
      "cell_type": "code",
      "metadata": {
        "colab": {
          "base_uri": "https://localhost:8080/",
          "height": 352
        },
        "id": "Et95uCtP-svO",
        "outputId": "b1fe3f6e-cac8-41c7-d69e-7cdd8a77b346"
      },
      "source": [
        "plt.figure(figsize=(13,5))\n",
        "sns.boxplot(x='Owner_Type', y='Price', data=data)"
      ],
      "execution_count": null,
      "outputs": [
        {
          "output_type": "execute_result",
          "data": {
            "text/plain": [
              "<matplotlib.axes._subplots.AxesSubplot at 0x12efe97f0>"
            ]
          },
          "metadata": {
            "tags": []
          },
          "execution_count": 44
        },
        {
          "output_type": "display_data",
          "data": {
            "image/png": "[encoded data removed]",
            "text/plain": [
              "<Figure size 936x360 with 1 Axes>"
            ]
          },
          "metadata": {
            "tags": [],
            "needs_background": "light"
          }
        }
      ]
    },
    {
      "cell_type": "code",
      "metadata": {
        "colab": {
          "base_uri": "https://localhost:8080/",
          "height": 352
        },
        "id": "kEm1bn7O-svQ",
        "outputId": "1a63f775-02fe-49f7-d4b8-0a313c01088a"
      },
      "source": [
        "plt.figure(figsize=(13,5))\n",
        "sns.boxplot(x='Fuel_Type', y='Price', data=data)"
      ],
      "execution_count": null,
      "outputs": [
        {
          "output_type": "execute_result",
          "data": {
            "text/plain": [
              "<matplotlib.axes._subplots.AxesSubplot at 0x12ef81ee0>"
            ]
          },
          "metadata": {
            "tags": []
          },
          "execution_count": 45
        },
        {
          "output_type": "display_data",
          "data": {
            "image/png": "[encoded data removed]",
            "text/plain": [
              "<Figure size 936x360 with 1 Axes>"
            ]
          },
          "metadata": {
            "tags": [],
            "needs_background": "light"
          }
        }
      ]
    },
    {
      "cell_type": "code",
      "metadata": {
        "id": "QYsqgF7Te6ZV",
        "outputId": "f7a16354-a603-48bc-a077-876bf9a75e45"
      },
      "source": [
        "plt.figure(figsize=(20,5))\n",
        "sns.boxplot(x='Brand_Name', y='Price', data=data)"
      ],
      "execution_count": null,
      "outputs": [
        {
          "output_type": "execute_result",
          "data": {
            "text/plain": [
              "<matplotlib.axes._subplots.AxesSubplot at 0x14292fb80>"
            ]
          },
          "metadata": {
            "tags": []
          },
          "execution_count": 64
        },
        {
          "output_type": "display_data",
          "data": {
            "image/png": "[encoded data removed]",
            "text/plain": [
              "<Figure size 1440x360 with 1 Axes>"
            ]
          },
          "metadata": {
            "tags": [],
            "needs_background": "light"
          }
        }
      ]
    },
    {
      "cell_type": "code",
      "metadata": {
        "id": "MyFOZ9Aae6ZW",
        "outputId": "d2839ba4-c58a-409e-a291-c95ab8433903"
      },
      "source": [
        "plt.figure(figsize=(13,5))\n",
        "sns.boxplot(x='Owner_Type', y='Price', data=data)"
      ],
      "execution_count": null,
      "outputs": [
        {
          "output_type": "execute_result",
          "data": {
            "text/plain": [
              "<matplotlib.axes._subplots.AxesSubplot at 0x12eeac520>"
            ]
          },
          "metadata": {
            "tags": []
          },
          "execution_count": 46
        },
        {
          "output_type": "display_data",
          "data": {
            "image/png": "[encoded data removed]",
            "text/plain": [
              "<Figure size 936x360 with 1 Axes>"
            ]
          },
          "metadata": {
            "tags": [],
            "needs_background": "light"
          }
        }
      ]
    },
    {
      "cell_type": "code",
      "metadata": {
        "colab": {
          "base_uri": "https://localhost:8080/",
          "height": 391
        },
        "id": "h_cwt_6r-svS",
        "outputId": "e0c42aab-1ecb-4596-cb8c-83aaa3bb0140"
      },
      "source": [
        "transmission_plt = data.groupby('Transmission')['Price'].nunique()\n",
        "transmission_plt.plot(kind='bar', figsize=(10,5))\n",
        "plt.title('Hubungan antara Transmisi dengan Harga Mobil')\n",
        "plt.ylabel('Harga Mobil')\n",
        "plt.xlabel('Transmisi');"
      ],
      "execution_count": null,
      "outputs": [
        {
          "output_type": "display_data",
          "data": {
            "image/png": "[encoded data removed]",
            "text/plain": [
              "<Figure size 720x360 with 1 Axes>"
            ]
          },
          "metadata": {
            "tags": [],
            "needs_background": "light"
          }
        }
      ]
    },
    {
      "cell_type": "code",
      "metadata": {
        "colab": {
          "base_uri": "https://localhost:8080/",
          "height": 417
        },
        "id": "HrrBv6mS-svW",
        "outputId": "84af194b-4333-49ef-cff3-8d9e5b1ac13f"
      },
      "source": [
        "owner_plt = data.groupby('Owner_Type')['Price'].nunique()\n",
        "owner_plt.plot(kind='bar', figsize=(10,5))\n",
        "plt.title('Hubungan antara Kepemilikan dengan Harga Mobil')\n",
        "plt.ylabel('Harga Mobil')\n",
        "plt.xlabel('Kepemilikan');"
      ],
      "execution_count": null,
      "outputs": [
        {
          "output_type": "display_data",
          "data": {
            "image/png": "[encoded data removed]",
            "text/plain": [
              "<Figure size 720x360 with 1 Axes>"
            ]
          },
          "metadata": {
            "tags": [],
            "needs_background": "light"
          }
        }
      ]
    },
    {
      "cell_type": "code",
      "metadata": {
        "colab": {
          "base_uri": "https://localhost:8080/",
          "height": 371
        },
        "id": "d4XYFC83-svZ",
        "outputId": "7e3f75b1-e264-424a-cf9d-6bc613c084a9"
      },
      "source": [
        "fuel_plt = data.groupby('Fuel_Type')['Price'].nunique()\n",
        "fuel_plt.plot(kind='bar', figsize=(10,5))\n",
        "plt.title('Hubungan antara Tipe Bahan Bakar dengan Harga Mobil')\n",
        "plt.ylabel('Harga Mobil')\n",
        "plt.xlabel('Tipe Bahan Bakar');"
      ],
      "execution_count": null,
      "outputs": [
        {
          "output_type": "display_data",
          "data": {
            "image/png": "[encoded data removed]",
            "text/plain": [
              "<Figure size 720x360 with 1 Axes>"
            ]
          },
          "metadata": {
            "tags": [],
            "needs_background": "light"
          }
        }
      ]
    },
    {
      "cell_type": "markdown",
      "metadata": {
        "id": "Pcj_IKjdDdgs"
      },
      "source": [
        "# Insight Lain"
      ]
    },
    {
      "cell_type": "code",
      "metadata": {
        "colab": {
          "base_uri": "https://localhost:8080/",
          "height": 351
        },
        "id": "c-UVDBsU-svb",
        "outputId": "1d41f2ab-def6-44dc-f455-e95ee5b34099"
      },
      "source": [
        "plt.figure(figsize=(13,5))\n",
        "sns.regplot(x='Power', y='Engine', data=data)"
      ],
      "execution_count": null,
      "outputs": [
        {
          "output_type": "execute_result",
          "data": {
            "text/plain": [
              "<matplotlib.axes._subplots.AxesSubplot at 0x12ecb3d30>"
            ]
          },
          "metadata": {
            "tags": []
          },
          "execution_count": 50
        },
        {
          "output_type": "display_data",
          "data": {
            "image/png": "[encoded data removed]",
            "text/plain": [
              "<Figure size 936x360 with 1 Axes>"
            ]
          },
          "metadata": {
            "tags": [],
            "needs_background": "light"
          }
        }
      ]
    },
    {
      "cell_type": "code",
      "metadata": {
        "colab": {
          "base_uri": "https://localhost:8080/",
          "height": 353
        },
        "id": "rpqoCT-XC0PI",
        "outputId": "602cd17b-0b16-4434-e50d-12282d09c7f0"
      },
      "source": [
        "plt.figure(figsize=(13,5))\n",
        "sns.regplot(x='Power', y='Mileage', data=data)"
      ],
      "execution_count": null,
      "outputs": [
        {
          "output_type": "execute_result",
          "data": {
            "text/plain": [
              "<matplotlib.axes._subplots.AxesSubplot at 0x122b75820>"
            ]
          },
          "metadata": {
            "tags": []
          },
          "execution_count": 51
        },
        {
          "output_type": "display_data",
          "data": {
            "image/png": "[encoded data removed]",
            "text/plain": [
              "<Figure size 936x360 with 1 Axes>"
            ]
          },
          "metadata": {
            "tags": [],
            "needs_background": "light"
          }
        }
      ]
    },
    {
      "cell_type": "code",
      "metadata": {
        "id": "2oHTtf0bK-tG",
        "outputId": "fe41a633-6188-463b-b779-9da78a51bcd2"
      },
      "source": [
        "plt.figure(figsize=(13,5))\n",
        "plt.bar(data['Year'], data['Power'] )"
      ],
      "execution_count": null,
      "outputs": [
        {
          "output_type": "execute_result",
          "data": {
            "text/plain": [
              "<BarContainer object of 5949 artists>"
            ]
          },
          "metadata": {
            "tags": []
          },
          "execution_count": 56
        },
        {
          "output_type": "display_data",
          "data": {
            "image/png": "[encoded data removed]",
            "text/plain": [
              "<Figure size 936x360 with 1 Axes>"
            ]
          },
          "metadata": {
            "tags": [],
            "needs_background": "light"
          }
        }
      ]
    },
    {
      "cell_type": "code",
      "metadata": {
        "id": "cMdAVsHke6Za",
        "outputId": "f280fb9e-63cf-4452-abf3-5055e0dd697c"
      },
      "source": [
        "plt.figure(figsize=(13,5))\n",
        "sns.boxplot(outlier['Owner_Type'], outlier['Kilometers_Driven'] )"
      ],
      "execution_count": null,
      "outputs": [
        {
          "output_type": "execute_result",
          "data": {
            "text/plain": [
              "<matplotlib.axes._subplots.AxesSubplot at 0x12f926e80>"
            ]
          },
          "metadata": {
            "tags": []
          },
          "execution_count": 53
        },
        {
          "output_type": "display_data",
          "data": {
            "image/png": "[encoded data removed]",
            "text/plain": [
              "<Figure size 936x360 with 1 Axes>"
            ]
          },
          "metadata": {
            "tags": [],
            "needs_background": "light"
          }
        }
      ]
    },
    {
      "cell_type": "code",
      "metadata": {
        "id": "jIqADba6e6Za"
      },
      "source": [
        ""
      ],
      "execution_count": null,
      "outputs": []
    }
  ]
}